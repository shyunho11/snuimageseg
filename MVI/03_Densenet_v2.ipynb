{
 "cells": [
  {
   "cell_type": "code",
   "execution_count": 1,
   "metadata": {
    "colab": {
     "base_uri": "https://localhost:8080/"
    },
    "id": "ZVD7911EVcWI",
    "outputId": "2783c3a4-855a-4b2b-86c0-297b7b31b9ce"
   },
   "outputs": [
    {
     "name": "stdout",
     "output_type": "stream",
     "text": [
      "Wed Mar 29 16:39:33 KST 2023\n",
      "\n",
      "+-----------------------------------------------------------------------------+\n",
      "| NVIDIA-SMI 455.32.00    Driver Version: 455.32.00    CUDA Version: 11.1     |\n",
      "|-------------------------------+----------------------+----------------------+\n",
      "| GPU  Name        Persistence-M| Bus-Id        Disp.A | Volatile Uncorr. ECC |\n",
      "| Fan  Temp  Perf  Pwr:Usage/Cap|         Memory-Usage | GPU-Util  Compute M. |\n",
      "|                               |                      |               MIG M. |\n",
      "|===============================+======================+======================|\n",
      "|   0  Tesla V100-PCIE...  On   | 00000000:14:00.0 Off |                    0 |\n",
      "| N/A   32C    P0    24W / 250W |      4MiB / 32510MiB |      0%      Default |\n",
      "|                               |                      |                  N/A |\n",
      "+-------------------------------+----------------------+----------------------+\n",
      "|   1  Tesla V100-PCIE...  On   | 00000000:15:00.0 Off |                    0 |\n",
      "| N/A   32C    P0    24W / 250W |      4MiB / 32510MiB |      0%      Default |\n",
      "|                               |                      |                  N/A |\n",
      "+-------------------------------+----------------------+----------------------+\n",
      "|   2  Tesla V100-PCIE...  On   | 00000000:39:00.0 Off |                    0 |\n",
      "| N/A   41C    P0    68W / 250W |   3795MiB / 32510MiB |     98%      Default |\n",
      "|                               |                      |                  N/A |\n",
      "+-------------------------------+----------------------+----------------------+\n",
      "|   3  Tesla V100-PCIE...  On   | 00000000:3A:00.0 Off |                    0 |\n",
      "| N/A   33C    P0    26W / 250W |      4MiB / 32510MiB |      0%      Default |\n",
      "|                               |                      |                  N/A |\n",
      "+-------------------------------+----------------------+----------------------+\n",
      "|   4  Tesla V100-PCIE...  On   | 00000000:88:00.0 Off |                    0 |\n",
      "| N/A   32C    P0    25W / 250W |      4MiB / 32510MiB |      0%      Default |\n",
      "|                               |                      |                  N/A |\n",
      "+-------------------------------+----------------------+----------------------+\n",
      "|   5  Tesla V100-PCIE...  On   | 00000000:89:00.0 Off |                    0 |\n",
      "| N/A   33C    P0    25W / 250W |      4MiB / 32510MiB |      0%      Default |\n",
      "|                               |                      |                  N/A |\n",
      "+-------------------------------+----------------------+----------------------+\n",
      "|   6  Tesla V100-PCIE...  On   | 00000000:B1:00.0 Off |                    0 |\n",
      "| N/A   31C    P0    25W / 250W |      4MiB / 32510MiB |      0%      Default |\n",
      "|                               |                      |                  N/A |\n",
      "+-------------------------------+----------------------+----------------------+\n",
      "|   7  Tesla V100-PCIE...  On   | 00000000:B2:00.0 Off |                    0 |\n",
      "| N/A   33C    P0    25W / 250W |      4MiB / 32510MiB |      0%      Default |\n",
      "|                               |                      |                  N/A |\n",
      "+-------------------------------+----------------------+----------------------+\n",
      "\n",
      "+-----------------------------------------------------------------------------+\n",
      "| Processes:                                                                  |\n",
      "|  GPU   GI   CI        PID   Type   Process name                  GPU Memory |\n",
      "|        ID   ID                                                   Usage      |\n",
      "|=============================================================================|\n",
      "|    0   N/A  N/A      7984      C   python                              0MiB |\n",
      "|    1   N/A  N/A      7984      C   python                              0MiB |\n",
      "|    2   N/A  N/A      7984      C   python                           3791MiB |\n",
      "|    3   N/A  N/A      7984      C   python                              0MiB |\n",
      "|    4   N/A  N/A      7984      C   python                              0MiB |\n",
      "|    5   N/A  N/A      7984      C   python                              0MiB |\n",
      "|    6   N/A  N/A      7984      C   python                              0MiB |\n",
      "|    7   N/A  N/A      7984      C   python                              0MiB |\n",
      "+-----------------------------------------------------------------------------+\n"
     ]
    }
   ],
   "source": [
    "!nvidia-smi"
   ]
  },
  {
   "cell_type": "code",
   "execution_count": 2,
   "metadata": {
    "colab": {
     "base_uri": "https://localhost:8080/"
    },
    "id": "pNnKTuzBgKZm",
    "outputId": "8b7c3607-768e-4222-d4c0-82806f5a1264"
   },
   "outputs": [
    {
     "name": "stdout",
     "output_type": "stream",
     "text": [
      "MONAI version: 1.1.0\n",
      "Numpy version: 1.23.5\n",
      "Pytorch version: 1.7.1+cu110\n",
      "MONAI flags: HAS_EXT = False, USE_COMPILED = False, USE_META_DICT = False\n",
      "MONAI rev id: a2ec3752f54bfc3b40e7952234fbeb5452ed63e3\n",
      "MONAI __file__: /home/aistore3/.conda/envs/snuimageseg/lib/python3.8/site-packages/monai/__init__.py\n",
      "\n",
      "Optional dependencies:\n",
      "Pytorch Ignite version: 0.4.8\n",
      "Nibabel version: 5.0.0\n",
      "scikit-image version: 0.19.3\n",
      "Pillow version: 9.4.0\n",
      "Tensorboard version: 2.11.0\n",
      "gdown version: 4.6.0\n",
      "TorchVision version: 0.8.2+cu110\n",
      "tqdm version: 4.64.1\n",
      "lmdb version: 1.4.0\n",
      "psutil version: 5.9.0\n",
      "pandas version: 1.5.2\n",
      "einops version: 0.6.0\n",
      "transformers version: 4.25.1\n",
      "mlflow version: 2.1.1\n",
      "pynrrd version: NOT INSTALLED or UNKNOWN VERSION.\n",
      "\n",
      "For details about installing the optional dependencies, please visit:\n",
      "    https://docs.monai.io/en/latest/installation.html#installing-the-recommended-dependencies\n",
      "\n"
     ]
    }
   ],
   "source": [
    "import os\n",
    "import glob\n",
    "\n",
    "import numpy as np\n",
    "import pandas as pd\n",
    "import matplotlib.pyplot as plt\n",
    "import torch\n",
    "\n",
    "from monai.apps import download_and_extract\n",
    "from monai.config import print_config\n",
    "from monai.utils import set_determinism\n",
    "\n",
    "print_config()\n",
    "set_determinism(0)\n",
    "\n",
    "import warnings\n",
    "warnings.filterwarnings(\"ignore\", category=DeprecationWarning) \n",
    "warnings.filterwarnings(\"ignore\", category=UserWarning) "
   ]
  },
  {
   "cell_type": "code",
   "execution_count": 3,
   "metadata": {},
   "outputs": [],
   "source": [
    "directory = \"temp\"\n",
    "if not os.path.exists(directory):\n",
    "    os.makedirs(directory)\n",
    "root_dir = tempfile.mkdtemp() if directory is None else directory\n",
    "data_dir = \"nifti\""
   ]
  },
  {
   "cell_type": "code",
   "execution_count": 4,
   "metadata": {},
   "outputs": [],
   "source": [
    "#pip install openpyxl\n",
    "\n",
    "patient_data = pd.read_excel(\"patient_data.xlsx\", usecols=\"A,B\")"
   ]
  },
  {
   "cell_type": "code",
   "execution_count": 5,
   "metadata": {},
   "outputs": [
    {
     "data": {
      "text/plain": [
       "'import SimpleITK as sitk\\n\\nimage_dir = \"result\"\\n\\ndef pngs2Nifti(patient_id, image_type, output_path):\\n    file_names = glob.glob(os.path.join(image_dir, patient_id, image_type, \"*.png\"))\\n    if file_names:\\n        reader = sitk.ImageSeriesReader()\\n        reader.SetFileNames(file_names)\\n        vol = reader.Execute()\\n        sitk.WriteImage(vol, os.path.join(output_path, patient_id + \".nii.gz\"))'"
      ]
     },
     "execution_count": 5,
     "metadata": {},
     "output_type": "execute_result"
    }
   ],
   "source": [
    "\"\"\"import SimpleITK as sitk\n",
    "\n",
    "image_dir = \"result\"\n",
    "\n",
    "def pngs2Nifti(patient_id, image_type, output_path):\n",
    "    file_names = glob.glob(os.path.join(image_dir, patient_id, image_type, \"*.png\"))\n",
    "    if file_names:\n",
    "        reader = sitk.ImageSeriesReader()\n",
    "        reader.SetFileNames(file_names)\n",
    "        vol = reader.Execute()\n",
    "        sitk.WriteImage(vol, os.path.join(output_path, patient_id + \".nii.gz\"))\"\"\""
   ]
  },
  {
   "cell_type": "code",
   "execution_count": 6,
   "metadata": {},
   "outputs": [
    {
     "data": {
      "text/plain": [
       "'#!find . -name \".DS_Store\" -exec rm {} \\\\;\\n\\npatients = sorted(os.listdir(\"result\"))\\nfor patient in patients:\\n    pngs2Nifti(patient, \"AP_crop\", \"nifti/AP\")\\n    pngs2Nifti(patient, \"HBP_crop\", \"nifti/HBP\")'"
      ]
     },
     "execution_count": 6,
     "metadata": {},
     "output_type": "execute_result"
    }
   ],
   "source": [
    "\"\"\"#!find . -name \".DS_Store\" -exec rm {} \\;\n",
    "\n",
    "patients = sorted(os.listdir(\"result\"))\n",
    "for patient in patients:\n",
    "    pngs2Nifti(patient, \"AP_crop\", \"nifti/AP\")\n",
    "    pngs2Nifti(patient, \"HBP_crop\", \"nifti/HBP\")\"\"\""
   ]
  },
  {
   "cell_type": "code",
   "execution_count": 10,
   "metadata": {
    "colab": {
     "base_uri": "https://localhost:8080/"
    },
    "id": "f5-WItNULaj8",
    "outputId": "8c2a4e8f-53f9-42d5-e72c-c80aaac26131"
   },
   "outputs": [],
   "source": [
    "import random\n",
    "\n",
    "train_images = sorted(glob.glob(os.path.join(data_dir, \"HBP\", \"*.nii.gz\")))\n",
    "train_labels = torch.nn.functional.one_hot(torch.as_tensor(patient_data[\"MVI\"])).float()\n",
    "data_list = list(zip(train_images, train_labels))\n",
    "\n",
    "set_determinism(seed=0)"
   ]
  },
  {
   "cell_type": "code",
   "execution_count": 11,
   "metadata": {},
   "outputs": [],
   "source": [
    "from monai.transforms import (\n",
    "    Compose,\n",
    "    LoadImaged,\n",
    "    EnsureChannelFirstd,\n",
    "    AddChanneld,\n",
    "    Orientationd,\n",
    "    ScaleIntensityRanged,\n",
    "    CropForegroundd,\n",
    "    RandAffined,\n",
    "    SpatialPadd,\n",
    "    EnsureTyped,\n",
    ")"
   ]
  },
  {
   "cell_type": "code",
   "execution_count": 12,
   "metadata": {
    "id": "AO410h13atLP"
   },
   "outputs": [],
   "source": [
    "# ScaleIntensityRanged min/max differ by organs\n",
    "# for liver, min = 30 + 150/2 = 105, max = 30 - 150/2 = -45\n",
    "# see more info here https://radiopaedia.org/articles/windowing-ct\n",
    "\n",
    "from monai.transforms import Compose\n",
    "\n",
    "train_transforms = Compose(\n",
    "    [\n",
    "        LoadImaged(keys=[\"image\"]),\n",
    "        EnsureChannelFirstd(keys=[\"image\"]),\n",
    "        #AddChanneld(keys=[\"label\"]),\n",
    "        Orientationd(keys=[\"image\"], axcodes=\"RAS\"),\n",
    "        ScaleIntensityRanged(\n",
    "            keys=[\"image\"], a_min=-45, a_max=105,\n",
    "            b_min=0.0, b_max=1.0, clip=True,\n",
    "        ),\n",
    "        CropForegroundd(keys=[\"image\"], source_key=\"image\"),\n",
    "        RandAffined(\n",
    "            keys=[\"image\"],\n",
    "            mode=(\"bilinear\"),\n",
    "            prob=1.0, spatial_size=(96, 96, 16),\n",
    "            rotate_range=(0, 0, 0),\n",
    "            scale_range=(0, 0, 0)),\n",
    "        SpatialPadd(keys=[\"image\"], spatial_size=(96, 96, 96)),\n",
    "        EnsureTyped(keys=[\"image\"]),\n",
    "    ]\n",
    ")\n",
    "val_transforms = Compose(\n",
    "    [\n",
    "        LoadImaged(keys=[\"image\"]),\n",
    "        EnsureChannelFirstd(keys=[\"image\"]),\n",
    "        #AddChanneld(keys=[\"label\"]),\n",
    "        Orientationd(keys=[\"image\"], axcodes=\"RAS\"),\n",
    "        ScaleIntensityRanged(\n",
    "            keys=[\"image\"], a_min=-45, a_max=105,\n",
    "            b_min=0.0, b_max=1.0, clip=True,\n",
    "        ),\n",
    "        CropForegroundd(keys=[\"image\"], source_key=\"image\"),\n",
    "        SpatialPadd(keys=[\"image\"], spatial_size=(96, 96, 96)),\n",
    "        EnsureTyped(keys=[\"image\"]),\n",
    "    ]\n",
    ")"
   ]
  },
  {
   "cell_type": "code",
   "execution_count": 21,
   "metadata": {
    "colab": {
     "base_uri": "https://localhost:8080/"
    },
    "id": "NoFLJK7mcUQE",
    "outputId": "4f76b110-9683-4e6d-ea0a-ae14589c013b"
   },
   "outputs": [],
   "source": [
    "from monai.data import CacheDataset, DataLoader\n",
    "\n",
    "def shuffle_data():\n",
    "    random.shuffle(data_list)\n",
    "    data_dicts = [{\"image\": image, \"label\": label} for image, label in data_list]\n",
    "    train_files, val_files = data_dicts[:200], data_dicts[200:]\n",
    "    train_ds = CacheDataset(data=train_files, transform=train_transforms, cache_rate=1.0, num_workers=4, progress=True)\n",
    "    train_loader = DataLoader(train_ds, batch_size=4, shuffle=True, num_workers=10)\n",
    "    val_ds = CacheDataset(data=val_files, transform=val_transforms, cache_rate=1.0, num_workers=4, progress=True)\n",
    "    val_loader = DataLoader(val_ds, batch_size=1, num_workers=10)\n",
    "    return train_ds, train_loader, val_ds, val_loader"
   ]
  },
  {
   "cell_type": "code",
   "execution_count": 22,
   "metadata": {
    "id": "FOxfQaWZczTS"
   },
   "outputs": [],
   "source": [
    "from monai.networks.nets import DenseNet121\n",
    "\n",
    "device = torch.device(\"cuda:0\")\n",
    "model = DenseNet121(\n",
    "    spatial_dims=3,\n",
    "    in_channels=1,\n",
    "    out_channels=2\n",
    ").to(device)"
   ]
  },
  {
   "cell_type": "code",
   "execution_count": 23,
   "metadata": {},
   "outputs": [],
   "source": [
    "loss_function = torch.nn.BCEWithLogitsLoss()\n",
    "optimizer = torch.optim.Adam(model.parameters(), 1e-4)\n",
    "max_epochs = 100\n",
    "val_interval = 2\n",
    "save_interval = 10\n",
    "best_score = -1\n",
    "best_score_epoch = -1\n",
    "epoch_loss_values = []\n",
    "metric_values = []\n",
    "model_name = 'Densenet'"
   ]
  },
  {
   "cell_type": "code",
   "execution_count": 24,
   "metadata": {
    "colab": {
     "base_uri": "https://localhost:8080/"
    },
    "id": "N8tSD1oLcdVA",
    "outputId": "38f96c2f-dced-4be3-a39f-26cc2f3e9015",
    "scrolled": true
   },
   "outputs": [
    {
     "name": "stderr",
     "output_type": "stream",
     "text": [
      "Loading dataset: 100%|███████████████████████| 200/200 [00:01<00:00, 157.73it/s]\n",
      "Loading dataset: 100%|█████████████████████████| 46/46 [00:00<00:00, 132.15it/s]\n"
     ]
    },
    {
     "name": "stdout",
     "output_type": "stream",
     "text": [
      "\n",
      "epoch 1/100 steps 5/50, |train-loss: 0.6752\n",
      "epoch 1/100 steps 10/50, |train-loss: 0.7464\n",
      "epoch 1/100 steps 15/50, |train-loss: 0.6480\n",
      "epoch 1/100 steps 20/50, |train-loss: 0.7189\n",
      "epoch 1/100 steps 25/50, |train-loss: 0.7756\n",
      "epoch 1/100 steps 30/50, |train-loss: 0.6679\n",
      "epoch 1/100 steps 35/50, |train-loss: 0.6812\n",
      "epoch 1/100 steps 40/50, |train-loss: 0.7644\n",
      "epoch 1/100 steps 45/50, |train-loss: 0.6891\n",
      "epoch 1/100 steps 50/50, |train-loss: 0.7230 |avg-loss: 0.7041 dur 78.7s "
     ]
    },
    {
     "name": "stderr",
     "output_type": "stream",
     "text": [
      "Loading dataset: 100%|███████████████████████| 200/200 [00:01<00:00, 158.87it/s]\n",
      "Loading dataset: 100%|█████████████████████████| 46/46 [00:00<00:00, 124.23it/s]\n"
     ]
    },
    {
     "name": "stdout",
     "output_type": "stream",
     "text": [
      "\n",
      "epoch 2/100 steps 5/50, |train-loss: 0.6383\n",
      "epoch 2/100 steps 10/50, |train-loss: 0.5897\n",
      "epoch 2/100 steps 15/50, |train-loss: 0.7219\n",
      "epoch 2/100 steps 20/50, |train-loss: 0.6088\n",
      "epoch 2/100 steps 25/50, |train-loss: 0.6483\n",
      "epoch 2/100 steps 30/50, |train-loss: 0.7392\n",
      "epoch 2/100 steps 35/50, |train-loss: 0.7750\n",
      "epoch 2/100 steps 40/50, |train-loss: 0.6894\n",
      "epoch 2/100 steps 45/50, |train-loss: 0.7425\n",
      "epoch 2/100 steps 50/50, |train-loss: 0.6742 |avg-loss: 0.6968 dur 79.0s |val-acc: 0.4348 |old-best: -1.0000 |best model saved"
     ]
    },
    {
     "name": "stderr",
     "output_type": "stream",
     "text": [
      "Loading dataset: 100%|███████████████████████| 200/200 [00:01<00:00, 153.42it/s]\n",
      "Loading dataset: 100%|█████████████████████████| 46/46 [00:00<00:00, 129.69it/s]\n"
     ]
    },
    {
     "name": "stdout",
     "output_type": "stream",
     "text": [
      "\n",
      "epoch 3/100 steps 5/50, |train-loss: 0.8394\n",
      "epoch 3/100 steps 10/50, |train-loss: 0.7075\n",
      "epoch 3/100 steps 15/50, |train-loss: 0.6595\n",
      "epoch 3/100 steps 20/50, |train-loss: 0.6794\n",
      "epoch 3/100 steps 25/50, |train-loss: 0.7317\n",
      "epoch 3/100 steps 30/50, |train-loss: 0.6110\n",
      "epoch 3/100 steps 35/50, |train-loss: 0.7605\n",
      "epoch 3/100 steps 40/50, |train-loss: 0.7214\n",
      "epoch 3/100 steps 45/50, |train-loss: 0.6872\n",
      "epoch 3/100 steps 50/50, |train-loss: 0.7683 |avg-loss: 0.7027 dur 79.8s "
     ]
    },
    {
     "name": "stderr",
     "output_type": "stream",
     "text": [
      "Loading dataset: 100%|███████████████████████| 200/200 [00:01<00:00, 146.93it/s]\n",
      "Loading dataset: 100%|█████████████████████████| 46/46 [00:00<00:00, 122.29it/s]\n"
     ]
    },
    {
     "name": "stdout",
     "output_type": "stream",
     "text": [
      "\n",
      "epoch 4/100 steps 5/50, |train-loss: 0.7370\n",
      "epoch 4/100 steps 10/50, |train-loss: 0.7172\n",
      "epoch 4/100 steps 15/50, |train-loss: 0.5990\n",
      "epoch 4/100 steps 20/50, |train-loss: 0.7345\n",
      "epoch 4/100 steps 25/50, |train-loss: 0.7521\n",
      "epoch 4/100 steps 30/50, |train-loss: 0.6974\n",
      "epoch 4/100 steps 35/50, |train-loss: 0.7076\n",
      "epoch 4/100 steps 40/50, |train-loss: 0.6259\n",
      "epoch 4/100 steps 45/50, |train-loss: 0.6598\n",
      "epoch 4/100 steps 50/50, |train-loss: 0.6692 |avg-loss: 0.6861 dur 79.6s |val-acc: 0.4348 |old-best: 0.4348 "
     ]
    },
    {
     "name": "stderr",
     "output_type": "stream",
     "text": [
      "Loading dataset: 100%|███████████████████████| 200/200 [00:01<00:00, 151.82it/s]\n",
      "Loading dataset: 100%|█████████████████████████| 46/46 [00:00<00:00, 127.34it/s]\n"
     ]
    },
    {
     "name": "stdout",
     "output_type": "stream",
     "text": [
      "\n",
      "epoch 5/100 steps 5/50, |train-loss: 0.8058\n",
      "epoch 5/100 steps 10/50, |train-loss: 0.6714\n",
      "epoch 5/100 steps 15/50, |train-loss: 0.6712\n",
      "epoch 5/100 steps 20/50, |train-loss: 0.7602\n",
      "epoch 5/100 steps 25/50, |train-loss: 0.6485\n",
      "epoch 5/100 steps 30/50, |train-loss: 0.7757\n",
      "epoch 5/100 steps 35/50, |train-loss: 0.6930\n",
      "epoch 5/100 steps 40/50, |train-loss: 0.6819\n",
      "epoch 5/100 steps 45/50, |train-loss: 0.6856\n",
      "epoch 5/100 steps 50/50, |train-loss: 0.7034 |avg-loss: 0.7034 dur 80.1s "
     ]
    },
    {
     "name": "stderr",
     "output_type": "stream",
     "text": [
      "Loading dataset: 100%|███████████████████████| 200/200 [00:01<00:00, 151.99it/s]\n",
      "Loading dataset: 100%|█████████████████████████| 46/46 [00:00<00:00, 133.05it/s]\n"
     ]
    },
    {
     "name": "stdout",
     "output_type": "stream",
     "text": [
      "\n",
      "epoch 6/100 steps 5/50, |train-loss: 0.6918\n",
      "epoch 6/100 steps 10/50, |train-loss: 0.6791\n",
      "epoch 6/100 steps 15/50, |train-loss: 0.5424\n",
      "epoch 6/100 steps 20/50, |train-loss: 0.7434\n",
      "epoch 6/100 steps 25/50, |train-loss: 0.7724\n",
      "epoch 6/100 steps 30/50, |train-loss: 0.6872\n",
      "epoch 6/100 steps 35/50, |train-loss: 0.6602\n",
      "epoch 6/100 steps 40/50, |train-loss: 0.5843\n",
      "epoch 6/100 steps 45/50, |train-loss: 0.7836\n",
      "epoch 6/100 steps 50/50, |train-loss: 0.7013 |avg-loss: 0.6979 dur 79.9s |val-acc: 0.5435 |old-best: 0.4348 |best model saved"
     ]
    },
    {
     "name": "stderr",
     "output_type": "stream",
     "text": [
      "Loading dataset: 100%|███████████████████████| 200/200 [00:01<00:00, 158.01it/s]\n",
      "Loading dataset: 100%|█████████████████████████| 46/46 [00:00<00:00, 129.55it/s]\n"
     ]
    },
    {
     "name": "stdout",
     "output_type": "stream",
     "text": [
      "\n",
      "epoch 7/100 steps 5/50, |train-loss: 0.8339\n",
      "epoch 7/100 steps 10/50, |train-loss: 0.6285\n",
      "epoch 7/100 steps 15/50, |train-loss: 0.6825\n",
      "epoch 7/100 steps 20/50, |train-loss: 0.7503\n",
      "epoch 7/100 steps 25/50, |train-loss: 0.7113\n",
      "epoch 7/100 steps 30/50, |train-loss: 0.6867\n",
      "epoch 7/100 steps 35/50, |train-loss: 0.6519\n",
      "epoch 7/100 steps 40/50, |train-loss: 0.7005\n",
      "epoch 7/100 steps 45/50, |train-loss: 0.6936\n",
      "epoch 7/100 steps 50/50, |train-loss: 0.8116 |avg-loss: 0.6915 dur 79.5s "
     ]
    },
    {
     "name": "stderr",
     "output_type": "stream",
     "text": [
      "Loading dataset: 100%|███████████████████████| 200/200 [00:01<00:00, 159.76it/s]\n",
      "Loading dataset: 100%|█████████████████████████| 46/46 [00:00<00:00, 132.21it/s]\n"
     ]
    },
    {
     "name": "stdout",
     "output_type": "stream",
     "text": [
      "\n",
      "epoch 8/100 steps 5/50, |train-loss: 0.6434\n",
      "epoch 8/100 steps 10/50, |train-loss: 0.5654\n",
      "epoch 8/100 steps 15/50, |train-loss: 0.5915\n",
      "epoch 8/100 steps 20/50, |train-loss: 0.7702\n",
      "epoch 8/100 steps 25/50, |train-loss: 0.6578\n",
      "epoch 8/100 steps 30/50, |train-loss: 0.6902\n",
      "epoch 8/100 steps 35/50, |train-loss: 0.6141\n",
      "epoch 8/100 steps 40/50, |train-loss: 0.7199\n",
      "epoch 8/100 steps 45/50, |train-loss: 0.7392\n",
      "epoch 8/100 steps 50/50, |train-loss: 0.6775 |avg-loss: 0.7046 dur 78.1s |val-acc: 0.5652 |old-best: 0.5435 |best model saved"
     ]
    },
    {
     "name": "stderr",
     "output_type": "stream",
     "text": [
      "Loading dataset: 100%|███████████████████████| 200/200 [00:01<00:00, 156.80it/s]\n",
      "Loading dataset: 100%|█████████████████████████| 46/46 [00:00<00:00, 131.52it/s]\n"
     ]
    },
    {
     "name": "stdout",
     "output_type": "stream",
     "text": [
      "\n",
      "epoch 9/100 steps 5/50, |train-loss: 0.7246\n",
      "epoch 9/100 steps 10/50, |train-loss: 0.6923\n",
      "epoch 9/100 steps 15/50, |train-loss: 0.6451\n",
      "epoch 9/100 steps 20/50, |train-loss: 0.7061\n",
      "epoch 9/100 steps 25/50, |train-loss: 0.6721\n",
      "epoch 9/100 steps 30/50, |train-loss: 0.6432\n",
      "epoch 9/100 steps 35/50, |train-loss: 0.7372\n",
      "epoch 9/100 steps 40/50, |train-loss: 0.6446\n",
      "epoch 9/100 steps 45/50, |train-loss: 0.6653\n",
      "epoch 9/100 steps 50/50, |train-loss: 0.6162 |avg-loss: 0.6814 dur 78.8s "
     ]
    },
    {
     "name": "stderr",
     "output_type": "stream",
     "text": [
      "Loading dataset: 100%|███████████████████████| 200/200 [00:01<00:00, 152.12it/s]\n",
      "Loading dataset: 100%|█████████████████████████| 46/46 [00:00<00:00, 130.04it/s]\n"
     ]
    },
    {
     "name": "stdout",
     "output_type": "stream",
     "text": [
      "\n",
      "epoch 10/100 steps 5/50, |train-loss: 0.7024\n",
      "epoch 10/100 steps 10/50, |train-loss: 0.7882\n",
      "epoch 10/100 steps 15/50, |train-loss: 0.6857\n",
      "epoch 10/100 steps 20/50, |train-loss: 0.7239\n",
      "epoch 10/100 steps 25/50, |train-loss: 0.6131\n",
      "epoch 10/100 steps 30/50, |train-loss: 0.7005\n",
      "epoch 10/100 steps 35/50, |train-loss: 0.7628\n",
      "epoch 10/100 steps 40/50, |train-loss: 0.7004\n",
      "epoch 10/100 steps 45/50, |train-loss: 0.5785\n",
      "epoch 10/100 steps 50/50, |train-loss: 0.5947 |avg-loss: 0.6722 dur 79.8s |val-acc: 0.5217 |old-best: 0.5652 |10ep model saved"
     ]
    },
    {
     "name": "stderr",
     "output_type": "stream",
     "text": [
      "Loading dataset: 100%|███████████████████████| 200/200 [00:01<00:00, 158.84it/s]\n",
      "Loading dataset: 100%|█████████████████████████| 46/46 [00:00<00:00, 123.54it/s]\n"
     ]
    },
    {
     "name": "stdout",
     "output_type": "stream",
     "text": [
      "\n",
      "epoch 11/100 steps 5/50, |train-loss: 0.6879\n",
      "epoch 11/100 steps 10/50, |train-loss: 0.7104\n",
      "epoch 11/100 steps 15/50, |train-loss: 0.6198\n",
      "epoch 11/100 steps 20/50, |train-loss: 0.8025\n",
      "epoch 11/100 steps 25/50, |train-loss: 0.7566\n",
      "epoch 11/100 steps 30/50, |train-loss: 0.6380\n",
      "epoch 11/100 steps 35/50, |train-loss: 0.7968\n",
      "epoch 11/100 steps 40/50, |train-loss: 0.6604\n",
      "epoch 11/100 steps 45/50, |train-loss: 0.5458\n",
      "epoch 11/100 steps 50/50, |train-loss: 0.6450 |avg-loss: 0.6752 dur 80.0s "
     ]
    },
    {
     "name": "stderr",
     "output_type": "stream",
     "text": [
      "Loading dataset: 100%|███████████████████████| 200/200 [00:01<00:00, 152.06it/s]\n",
      "Loading dataset: 100%|█████████████████████████| 46/46 [00:00<00:00, 107.71it/s]\n"
     ]
    },
    {
     "name": "stdout",
     "output_type": "stream",
     "text": [
      "\n",
      "epoch 12/100 steps 5/50, |train-loss: 0.3634\n",
      "epoch 12/100 steps 10/50, |train-loss: 0.6801\n",
      "epoch 12/100 steps 15/50, |train-loss: 0.7180\n",
      "epoch 12/100 steps 20/50, |train-loss: 0.4818\n",
      "epoch 12/100 steps 25/50, |train-loss: 0.9627\n",
      "epoch 12/100 steps 30/50, |train-loss: 0.7201\n",
      "epoch 12/100 steps 35/50, |train-loss: 0.5390\n",
      "epoch 12/100 steps 40/50, |train-loss: 0.7241\n",
      "epoch 12/100 steps 45/50, |train-loss: 0.4100\n",
      "epoch 12/100 steps 50/50, |train-loss: 0.7665 |avg-loss: 0.6596 dur 80.3s |val-acc: 0.5435 |old-best: 0.5652 "
     ]
    },
    {
     "name": "stderr",
     "output_type": "stream",
     "text": [
      "Loading dataset: 100%|███████████████████████| 200/200 [00:01<00:00, 154.02it/s]\n",
      "Loading dataset: 100%|█████████████████████████| 46/46 [00:00<00:00, 120.96it/s]\n"
     ]
    },
    {
     "name": "stdout",
     "output_type": "stream",
     "text": [
      "\n",
      "epoch 13/100 steps 5/50, |train-loss: 0.5745\n",
      "epoch 13/100 steps 10/50, |train-loss: 0.7028\n",
      "epoch 13/100 steps 15/50, |train-loss: 0.6625\n",
      "epoch 13/100 steps 20/50, |train-loss: 0.5921\n",
      "epoch 13/100 steps 25/50, |train-loss: 0.6455\n",
      "epoch 13/100 steps 30/50, |train-loss: 0.7359\n",
      "epoch 13/100 steps 35/50, |train-loss: 0.6130\n",
      "epoch 13/100 steps 40/50, |train-loss: 0.5097\n",
      "epoch 13/100 steps 45/50, |train-loss: 0.5604\n",
      "epoch 13/100 steps 50/50, |train-loss: 0.7778 |avg-loss: 0.6489 dur 79.8s "
     ]
    },
    {
     "name": "stderr",
     "output_type": "stream",
     "text": [
      "Loading dataset: 100%|███████████████████████| 200/200 [00:01<00:00, 128.30it/s]\n",
      "Loading dataset: 100%|█████████████████████████| 46/46 [00:00<00:00, 126.50it/s]\n"
     ]
    },
    {
     "name": "stdout",
     "output_type": "stream",
     "text": [
      "\n",
      "epoch 14/100 steps 5/50, |train-loss: 0.7261\n",
      "epoch 14/100 steps 10/50, |train-loss: 0.6828\n",
      "epoch 14/100 steps 15/50, |train-loss: 0.6470\n",
      "epoch 14/100 steps 20/50, |train-loss: 0.6558\n",
      "epoch 14/100 steps 25/50, |train-loss: 0.8116\n",
      "epoch 14/100 steps 30/50, |train-loss: 0.7679\n",
      "epoch 14/100 steps 35/50, |train-loss: 0.7440\n",
      "epoch 14/100 steps 40/50, |train-loss: 0.6473\n",
      "epoch 14/100 steps 45/50, |train-loss: 0.6286\n",
      "epoch 14/100 steps 50/50, |train-loss: 0.4846 |avg-loss: 0.6544 dur 79.1s |val-acc: 0.6304 |old-best: 0.5652 |best model saved"
     ]
    },
    {
     "name": "stderr",
     "output_type": "stream",
     "text": [
      "Loading dataset: 100%|███████████████████████| 200/200 [00:01<00:00, 152.82it/s]\n",
      "Loading dataset: 100%|█████████████████████████| 46/46 [00:00<00:00, 128.55it/s]\n"
     ]
    },
    {
     "name": "stdout",
     "output_type": "stream",
     "text": [
      "\n",
      "epoch 15/100 steps 5/50, |train-loss: 0.7029\n",
      "epoch 15/100 steps 10/50, |train-loss: 0.5353\n",
      "epoch 15/100 steps 15/50, |train-loss: 0.7995\n",
      "epoch 15/100 steps 20/50, |train-loss: 0.4521\n",
      "epoch 15/100 steps 25/50, |train-loss: 0.5840\n",
      "epoch 15/100 steps 30/50, |train-loss: 0.7613\n",
      "epoch 15/100 steps 35/50, |train-loss: 0.7757\n",
      "epoch 15/100 steps 40/50, |train-loss: 0.6768\n",
      "epoch 15/100 steps 45/50, |train-loss: 0.6288\n",
      "epoch 15/100 steps 50/50, |train-loss: 0.7956 |avg-loss: 0.6634 dur 79.4s "
     ]
    },
    {
     "name": "stderr",
     "output_type": "stream",
     "text": [
      "Loading dataset: 100%|███████████████████████| 200/200 [00:01<00:00, 155.35it/s]\n",
      "Loading dataset: 100%|█████████████████████████| 46/46 [00:00<00:00, 130.91it/s]\n"
     ]
    },
    {
     "name": "stdout",
     "output_type": "stream",
     "text": [
      "\n",
      "epoch 16/100 steps 5/50, |train-loss: 0.7119\n",
      "epoch 16/100 steps 10/50, |train-loss: 0.7920\n",
      "epoch 16/100 steps 15/50, |train-loss: 0.4743\n",
      "epoch 16/100 steps 20/50, |train-loss: 0.6185\n",
      "epoch 16/100 steps 25/50, |train-loss: 0.7521\n",
      "epoch 16/100 steps 30/50, |train-loss: 0.6940\n",
      "epoch 16/100 steps 35/50, |train-loss: 0.7960\n",
      "epoch 16/100 steps 40/50, |train-loss: 0.4439\n",
      "epoch 16/100 steps 45/50, |train-loss: 0.4638\n",
      "epoch 16/100 steps 50/50, |train-loss: 0.8255 |avg-loss: 0.6456 dur 80.4s |val-acc: 0.5000 |old-best: 0.6304 "
     ]
    },
    {
     "name": "stderr",
     "output_type": "stream",
     "text": [
      "Loading dataset: 100%|███████████████████████| 200/200 [00:01<00:00, 155.93it/s]\n",
      "Loading dataset: 100%|█████████████████████████| 46/46 [00:00<00:00, 134.27it/s]\n"
     ]
    },
    {
     "name": "stdout",
     "output_type": "stream",
     "text": [
      "\n",
      "epoch 17/100 steps 5/50, |train-loss: 0.5253\n",
      "epoch 17/100 steps 10/50, |train-loss: 0.2700\n",
      "epoch 17/100 steps 15/50, |train-loss: 0.4174\n",
      "epoch 17/100 steps 20/50, |train-loss: 0.6309\n",
      "epoch 17/100 steps 25/50, |train-loss: 0.5410\n",
      "epoch 17/100 steps 30/50, |train-loss: 0.4775\n",
      "epoch 17/100 steps 35/50, |train-loss: 0.9766\n",
      "epoch 17/100 steps 40/50, |train-loss: 0.8393\n",
      "epoch 17/100 steps 45/50, |train-loss: 0.5474\n",
      "epoch 17/100 steps 50/50, |train-loss: 0.7364 |avg-loss: 0.5787 dur 79.7s "
     ]
    },
    {
     "name": "stderr",
     "output_type": "stream",
     "text": [
      "Loading dataset: 100%|███████████████████████| 200/200 [00:01<00:00, 156.90it/s]\n",
      "Loading dataset: 100%|█████████████████████████| 46/46 [00:00<00:00, 136.05it/s]\n"
     ]
    },
    {
     "name": "stdout",
     "output_type": "stream",
     "text": [
      "\n",
      "epoch 18/100 steps 5/50, |train-loss: 0.7465\n",
      "epoch 18/100 steps 10/50, |train-loss: 0.4985\n",
      "epoch 18/100 steps 15/50, |train-loss: 0.4321\n",
      "epoch 18/100 steps 20/50, |train-loss: 0.5668\n",
      "epoch 18/100 steps 25/50, |train-loss: 1.3476\n",
      "epoch 18/100 steps 30/50, |train-loss: 0.8070\n",
      "epoch 18/100 steps 35/50, |train-loss: 0.5200\n",
      "epoch 18/100 steps 40/50, |train-loss: 0.5702\n",
      "epoch 18/100 steps 45/50, |train-loss: 0.6831\n",
      "epoch 18/100 steps 50/50, |train-loss: 0.8379 |avg-loss: 0.6284 dur 79.9s |val-acc: 0.5217 |old-best: 0.6304 "
     ]
    },
    {
     "name": "stderr",
     "output_type": "stream",
     "text": [
      "Loading dataset: 100%|███████████████████████| 200/200 [00:01<00:00, 149.66it/s]\n",
      "Loading dataset: 100%|█████████████████████████| 46/46 [00:00<00:00, 134.78it/s]\n"
     ]
    },
    {
     "name": "stdout",
     "output_type": "stream",
     "text": [
      "\n",
      "epoch 19/100 steps 5/50, |train-loss: 0.8005\n",
      "epoch 19/100 steps 10/50, |train-loss: 0.5145\n",
      "epoch 19/100 steps 15/50, |train-loss: 0.4462\n",
      "epoch 19/100 steps 20/50, |train-loss: 0.5213\n",
      "epoch 19/100 steps 25/50, |train-loss: 0.7654\n",
      "epoch 19/100 steps 30/50, |train-loss: 0.6643\n",
      "epoch 19/100 steps 35/50, |train-loss: 0.4569\n",
      "epoch 19/100 steps 40/50, |train-loss: 0.5676\n",
      "epoch 19/100 steps 45/50, |train-loss: 0.7276\n",
      "epoch 19/100 steps 50/50, |train-loss: 0.6305 |avg-loss: 0.6564 dur 79.9s "
     ]
    },
    {
     "name": "stderr",
     "output_type": "stream",
     "text": [
      "Loading dataset: 100%|███████████████████████| 200/200 [00:01<00:00, 148.53it/s]\n",
      "Loading dataset: 100%|█████████████████████████| 46/46 [00:00<00:00, 116.35it/s]\n"
     ]
    },
    {
     "name": "stdout",
     "output_type": "stream",
     "text": [
      "\n",
      "epoch 20/100 steps 5/50, |train-loss: 0.6661\n",
      "epoch 20/100 steps 10/50, |train-loss: 0.6345\n",
      "epoch 20/100 steps 15/50, |train-loss: 0.7114\n",
      "epoch 20/100 steps 20/50, |train-loss: 0.6955\n",
      "epoch 20/100 steps 25/50, |train-loss: 0.8071\n",
      "epoch 20/100 steps 30/50, |train-loss: 0.4016\n",
      "epoch 20/100 steps 35/50, |train-loss: 0.4801\n",
      "epoch 20/100 steps 40/50, |train-loss: 0.6775\n",
      "epoch 20/100 steps 45/50, |train-loss: 0.8023\n",
      "epoch 20/100 steps 50/50, |train-loss: 0.5551 |avg-loss: 0.6014 dur 79.4s |val-acc: 0.5000 |old-best: 0.6304 |20ep model saved"
     ]
    },
    {
     "name": "stderr",
     "output_type": "stream",
     "text": [
      "Loading dataset: 100%|███████████████████████| 200/200 [00:01<00:00, 159.21it/s]\n",
      "Loading dataset: 100%|█████████████████████████| 46/46 [00:00<00:00, 130.35it/s]\n"
     ]
    },
    {
     "name": "stdout",
     "output_type": "stream",
     "text": [
      "\n",
      "epoch 21/100 steps 5/50, |train-loss: 1.1171\n",
      "epoch 21/100 steps 10/50, |train-loss: 0.4496\n",
      "epoch 21/100 steps 15/50, |train-loss: 0.4566\n",
      "epoch 21/100 steps 20/50, |train-loss: 0.3478\n",
      "epoch 21/100 steps 25/50, |train-loss: 0.7654\n",
      "epoch 21/100 steps 30/50, |train-loss: 0.6494\n",
      "epoch 21/100 steps 35/50, |train-loss: 0.9995\n",
      "epoch 21/100 steps 40/50, |train-loss: 0.3565\n",
      "epoch 21/100 steps 45/50, |train-loss: 0.5661\n",
      "epoch 21/100 steps 50/50, |train-loss: 0.8137 |avg-loss: 0.5992 dur 79.1s "
     ]
    },
    {
     "name": "stderr",
     "output_type": "stream",
     "text": [
      "Loading dataset: 100%|███████████████████████| 200/200 [00:01<00:00, 151.08it/s]\n",
      "Loading dataset: 100%|█████████████████████████| 46/46 [00:00<00:00, 121.91it/s]\n"
     ]
    },
    {
     "name": "stdout",
     "output_type": "stream",
     "text": [
      "\n",
      "epoch 22/100 steps 5/50, |train-loss: 0.6573\n",
      "epoch 22/100 steps 10/50, |train-loss: 0.3600\n",
      "epoch 22/100 steps 15/50, |train-loss: 0.7260\n",
      "epoch 22/100 steps 20/50, |train-loss: 0.5312\n",
      "epoch 22/100 steps 25/50, |train-loss: 0.4306\n",
      "epoch 22/100 steps 30/50, |train-loss: 0.4860\n",
      "epoch 22/100 steps 35/50, |train-loss: 0.3999\n",
      "epoch 22/100 steps 40/50, |train-loss: 0.6453\n",
      "epoch 22/100 steps 45/50, |train-loss: 0.5055\n",
      "epoch 22/100 steps 50/50, |train-loss: 0.4910 |avg-loss: 0.5892 dur 78.7s |val-acc: 0.5870 |old-best: 0.6304 "
     ]
    },
    {
     "name": "stderr",
     "output_type": "stream",
     "text": [
      "Loading dataset: 100%|███████████████████████| 200/200 [00:01<00:00, 155.90it/s]\n",
      "Loading dataset: 100%|█████████████████████████| 46/46 [00:00<00:00, 108.25it/s]\n"
     ]
    },
    {
     "name": "stdout",
     "output_type": "stream",
     "text": [
      "\n",
      "epoch 23/100 steps 5/50, |train-loss: 0.5329\n",
      "epoch 23/100 steps 10/50, |train-loss: 0.3401\n",
      "epoch 23/100 steps 15/50, |train-loss: 0.4147\n",
      "epoch 23/100 steps 20/50, |train-loss: 0.9467\n",
      "epoch 23/100 steps 25/50, |train-loss: 0.4444\n",
      "epoch 23/100 steps 30/50, |train-loss: 0.7457\n",
      "epoch 23/100 steps 35/50, |train-loss: 0.3242\n",
      "epoch 23/100 steps 40/50, |train-loss: 0.7421\n",
      "epoch 23/100 steps 45/50, |train-loss: 0.6897\n",
      "epoch 23/100 steps 50/50, |train-loss: 0.8102 |avg-loss: 0.5664 dur 78.9s "
     ]
    },
    {
     "name": "stderr",
     "output_type": "stream",
     "text": [
      "Loading dataset: 100%|███████████████████████| 200/200 [00:01<00:00, 147.60it/s]\n",
      "Loading dataset: 100%|█████████████████████████| 46/46 [00:00<00:00, 128.46it/s]\n"
     ]
    },
    {
     "name": "stdout",
     "output_type": "stream",
     "text": [
      "\n",
      "epoch 24/100 steps 5/50, |train-loss: 0.6800\n",
      "epoch 24/100 steps 10/50, |train-loss: 0.8139\n",
      "epoch 24/100 steps 15/50, |train-loss: 0.9739\n",
      "epoch 24/100 steps 20/50, |train-loss: 0.9641\n",
      "epoch 24/100 steps 25/50, |train-loss: 0.4804\n",
      "epoch 24/100 steps 30/50, |train-loss: 0.7240\n",
      "epoch 24/100 steps 35/50, |train-loss: 0.6815\n",
      "epoch 24/100 steps 40/50, |train-loss: 0.5870\n",
      "epoch 24/100 steps 45/50, |train-loss: 0.3625\n",
      "epoch 24/100 steps 50/50, |train-loss: 0.8273 |avg-loss: 0.5574 dur 79.3s |val-acc: 0.4783 |old-best: 0.6304 "
     ]
    },
    {
     "name": "stderr",
     "output_type": "stream",
     "text": [
      "Loading dataset: 100%|███████████████████████| 200/200 [00:01<00:00, 150.31it/s]\n",
      "Loading dataset: 100%|█████████████████████████| 46/46 [00:00<00:00, 131.78it/s]\n"
     ]
    },
    {
     "name": "stdout",
     "output_type": "stream",
     "text": [
      "\n",
      "epoch 25/100 steps 5/50, |train-loss: 0.7662\n",
      "epoch 25/100 steps 10/50, |train-loss: 0.4625\n",
      "epoch 25/100 steps 15/50, |train-loss: 0.7919\n",
      "epoch 25/100 steps 20/50, |train-loss: 0.5417\n",
      "epoch 25/100 steps 25/50, |train-loss: 0.3341\n",
      "epoch 25/100 steps 30/50, |train-loss: 0.6841\n",
      "epoch 25/100 steps 35/50, |train-loss: 0.6267\n",
      "epoch 25/100 steps 40/50, |train-loss: 0.6750\n",
      "epoch 25/100 steps 45/50, |train-loss: 0.9787\n",
      "epoch 25/100 steps 50/50, |train-loss: 0.9154 |avg-loss: 0.6116 dur 79.8s "
     ]
    },
    {
     "name": "stderr",
     "output_type": "stream",
     "text": [
      "Loading dataset: 100%|███████████████████████| 200/200 [00:01<00:00, 154.25it/s]\n",
      "Loading dataset: 100%|█████████████████████████| 46/46 [00:00<00:00, 114.21it/s]\n"
     ]
    },
    {
     "name": "stdout",
     "output_type": "stream",
     "text": [
      "\n",
      "epoch 26/100 steps 5/50, |train-loss: 0.6370\n",
      "epoch 26/100 steps 10/50, |train-loss: 0.9140\n",
      "epoch 26/100 steps 15/50, |train-loss: 0.4921\n",
      "epoch 26/100 steps 20/50, |train-loss: 0.7017\n",
      "epoch 26/100 steps 25/50, |train-loss: 0.5002\n",
      "epoch 26/100 steps 30/50, |train-loss: 0.3015\n",
      "epoch 26/100 steps 35/50, |train-loss: 0.4718\n",
      "epoch 26/100 steps 40/50, |train-loss: 0.3857\n",
      "epoch 26/100 steps 45/50, |train-loss: 0.3923\n",
      "epoch 26/100 steps 50/50, |train-loss: 0.3469 |avg-loss: 0.5717 dur 80.8s |val-acc: 0.7826 |old-best: 0.6304 |best model saved"
     ]
    },
    {
     "name": "stderr",
     "output_type": "stream",
     "text": [
      "Loading dataset: 100%|███████████████████████| 200/200 [00:01<00:00, 148.23it/s]\n",
      "Loading dataset: 100%|█████████████████████████| 46/46 [00:00<00:00, 112.06it/s]\n"
     ]
    },
    {
     "name": "stdout",
     "output_type": "stream",
     "text": [
      "\n",
      "epoch 27/100 steps 5/50, |train-loss: 0.7176\n",
      "epoch 27/100 steps 10/50, |train-loss: 0.4173\n",
      "epoch 27/100 steps 15/50, |train-loss: 0.5462\n",
      "epoch 27/100 steps 20/50, |train-loss: 0.3666\n",
      "epoch 27/100 steps 25/50, |train-loss: 0.5173\n",
      "epoch 27/100 steps 30/50, |train-loss: 0.4312\n",
      "epoch 27/100 steps 35/50, |train-loss: 0.6248\n",
      "epoch 27/100 steps 40/50, |train-loss: 0.3113\n",
      "epoch 27/100 steps 45/50, |train-loss: 0.8167\n",
      "epoch 27/100 steps 50/50, |train-loss: 0.6918 |avg-loss: 0.4978 dur 80.1s "
     ]
    },
    {
     "name": "stderr",
     "output_type": "stream",
     "text": [
      "Loading dataset: 100%|███████████████████████| 200/200 [00:01<00:00, 132.98it/s]\n",
      "Loading dataset: 100%|█████████████████████████| 46/46 [00:00<00:00, 127.69it/s]\n"
     ]
    },
    {
     "name": "stdout",
     "output_type": "stream",
     "text": [
      "\n",
      "epoch 28/100 steps 5/50, |train-loss: 0.3974\n",
      "epoch 28/100 steps 10/50, |train-loss: 0.5488\n",
      "epoch 28/100 steps 15/50, |train-loss: 0.1849\n",
      "epoch 28/100 steps 20/50, |train-loss: 0.4921\n",
      "epoch 28/100 steps 25/50, |train-loss: 0.6794\n",
      "epoch 28/100 steps 30/50, |train-loss: 0.7096\n",
      "epoch 28/100 steps 35/50, |train-loss: 0.7760\n",
      "epoch 28/100 steps 40/50, |train-loss: 0.7867\n",
      "epoch 28/100 steps 45/50, |train-loss: 0.5754\n",
      "epoch 28/100 steps 50/50, |train-loss: 0.3560 |avg-loss: 0.5949 dur 80.9s |val-acc: 0.8043 |old-best: 0.7826 |best model saved"
     ]
    },
    {
     "name": "stderr",
     "output_type": "stream",
     "text": [
      "Loading dataset: 100%|███████████████████████| 200/200 [00:01<00:00, 159.51it/s]\n",
      "Loading dataset: 100%|█████████████████████████| 46/46 [00:00<00:00, 120.86it/s]\n"
     ]
    },
    {
     "name": "stdout",
     "output_type": "stream",
     "text": [
      "\n",
      "epoch 29/100 steps 5/50, |train-loss: 0.3649\n",
      "epoch 29/100 steps 10/50, |train-loss: 0.5386\n",
      "epoch 29/100 steps 15/50, |train-loss: 0.6150\n",
      "epoch 29/100 steps 20/50, |train-loss: 0.3654\n",
      "epoch 29/100 steps 25/50, |train-loss: 0.4603\n",
      "epoch 29/100 steps 30/50, |train-loss: 0.3934\n",
      "epoch 29/100 steps 35/50, |train-loss: 0.9577\n",
      "epoch 29/100 steps 40/50, |train-loss: 0.5736\n",
      "epoch 29/100 steps 45/50, |train-loss: 0.7703\n",
      "epoch 29/100 steps 50/50, |train-loss: 0.7291 |avg-loss: 0.5415 dur 80.7s "
     ]
    },
    {
     "name": "stderr",
     "output_type": "stream",
     "text": [
      "Loading dataset: 100%|███████████████████████| 200/200 [00:01<00:00, 156.62it/s]\n",
      "Loading dataset: 100%|█████████████████████████| 46/46 [00:00<00:00, 117.95it/s]\n"
     ]
    },
    {
     "name": "stdout",
     "output_type": "stream",
     "text": [
      "\n",
      "epoch 30/100 steps 5/50, |train-loss: 0.4419\n",
      "epoch 30/100 steps 10/50, |train-loss: 0.4196\n",
      "epoch 30/100 steps 15/50, |train-loss: 0.4457\n",
      "epoch 30/100 steps 20/50, |train-loss: 0.9455\n",
      "epoch 30/100 steps 25/50, |train-loss: 0.4831\n",
      "epoch 30/100 steps 30/50, |train-loss: 0.3966\n",
      "epoch 30/100 steps 35/50, |train-loss: 0.6801\n",
      "epoch 30/100 steps 40/50, |train-loss: 0.4521\n",
      "epoch 30/100 steps 45/50, |train-loss: 0.7792\n",
      "epoch 30/100 steps 50/50, |train-loss: 0.1676 |avg-loss: 0.4842 dur 80.9s |val-acc: 0.8478 |old-best: 0.8043 |best model saved|30ep model saved"
     ]
    },
    {
     "name": "stderr",
     "output_type": "stream",
     "text": [
      "Loading dataset: 100%|███████████████████████| 200/200 [00:01<00:00, 152.72it/s]\n",
      "Loading dataset: 100%|█████████████████████████| 46/46 [00:00<00:00, 116.54it/s]\n"
     ]
    },
    {
     "name": "stdout",
     "output_type": "stream",
     "text": [
      "\n",
      "epoch 31/100 steps 5/50, |train-loss: 0.7585\n",
      "epoch 31/100 steps 10/50, |train-loss: 0.5482\n",
      "epoch 31/100 steps 15/50, |train-loss: 0.8127\n",
      "epoch 31/100 steps 20/50, |train-loss: 0.6695\n",
      "epoch 31/100 steps 25/50, |train-loss: 0.2886\n",
      "epoch 31/100 steps 30/50, |train-loss: 0.3142\n",
      "epoch 31/100 steps 35/50, |train-loss: 0.6491\n",
      "epoch 31/100 steps 40/50, |train-loss: 0.5466\n",
      "epoch 31/100 steps 45/50, |train-loss: 0.3823\n",
      "epoch 31/100 steps 50/50, |train-loss: 0.4119 |avg-loss: 0.5423 dur 80.5s "
     ]
    },
    {
     "name": "stderr",
     "output_type": "stream",
     "text": [
      "Loading dataset: 100%|███████████████████████| 200/200 [00:01<00:00, 151.89it/s]\n",
      "Loading dataset: 100%|█████████████████████████| 46/46 [00:00<00:00, 113.50it/s]\n"
     ]
    },
    {
     "name": "stdout",
     "output_type": "stream",
     "text": [
      "\n",
      "epoch 32/100 steps 5/50, |train-loss: 0.2338\n",
      "epoch 32/100 steps 10/50, |train-loss: 0.6796\n",
      "epoch 32/100 steps 15/50, |train-loss: 0.3243\n",
      "epoch 32/100 steps 20/50, |train-loss: 0.6937\n",
      "epoch 32/100 steps 25/50, |train-loss: 0.6328\n",
      "epoch 32/100 steps 30/50, |train-loss: 0.5228\n",
      "epoch 32/100 steps 35/50, |train-loss: 0.3534\n",
      "epoch 32/100 steps 40/50, |train-loss: 0.7369\n",
      "epoch 32/100 steps 45/50, |train-loss: 0.6298\n",
      "epoch 32/100 steps 50/50, |train-loss: 0.3604 |avg-loss: 0.4485 dur 81.1s |val-acc: 0.6304 |old-best: 0.8478 "
     ]
    },
    {
     "name": "stderr",
     "output_type": "stream",
     "text": [
      "Loading dataset: 100%|███████████████████████| 200/200 [00:01<00:00, 155.12it/s]\n",
      "Loading dataset: 100%|█████████████████████████| 46/46 [00:00<00:00, 122.99it/s]\n"
     ]
    },
    {
     "name": "stdout",
     "output_type": "stream",
     "text": [
      "\n",
      "epoch 33/100 steps 5/50, |train-loss: 0.5847\n",
      "epoch 33/100 steps 10/50, |train-loss: 0.6146\n",
      "epoch 33/100 steps 15/50, |train-loss: 0.3174\n",
      "epoch 33/100 steps 20/50, |train-loss: 0.2961\n",
      "epoch 33/100 steps 25/50, |train-loss: 0.5252\n",
      "epoch 33/100 steps 30/50, |train-loss: 0.5931\n",
      "epoch 33/100 steps 35/50, |train-loss: 0.4669\n",
      "epoch 33/100 steps 40/50, |train-loss: 0.7081\n",
      "epoch 33/100 steps 45/50, |train-loss: 0.5488\n",
      "epoch 33/100 steps 50/50, |train-loss: 1.0743 |avg-loss: 0.4565 dur 81.1s "
     ]
    },
    {
     "name": "stderr",
     "output_type": "stream",
     "text": [
      "Loading dataset: 100%|███████████████████████| 200/200 [00:01<00:00, 144.99it/s]\n",
      "Loading dataset: 100%|█████████████████████████| 46/46 [00:00<00:00, 122.95it/s]\n"
     ]
    },
    {
     "name": "stdout",
     "output_type": "stream",
     "text": [
      "\n",
      "epoch 34/100 steps 5/50, |train-loss: 0.5510\n",
      "epoch 34/100 steps 10/50, |train-loss: 0.5222\n",
      "epoch 34/100 steps 15/50, |train-loss: 0.3328\n",
      "epoch 34/100 steps 20/50, |train-loss: 0.2725\n",
      "epoch 34/100 steps 25/50, |train-loss: 0.1832\n",
      "epoch 34/100 steps 30/50, |train-loss: 0.2505\n",
      "epoch 34/100 steps 35/50, |train-loss: 0.4169\n",
      "epoch 34/100 steps 40/50, |train-loss: 0.2960\n",
      "epoch 34/100 steps 45/50, |train-loss: 0.4834\n",
      "epoch 34/100 steps 50/50, |train-loss: 0.4579 |avg-loss: 0.4802 dur 80.4s |val-acc: 0.7174 |old-best: 0.8478 "
     ]
    },
    {
     "name": "stderr",
     "output_type": "stream",
     "text": [
      "Loading dataset: 100%|███████████████████████| 200/200 [00:01<00:00, 144.91it/s]\n",
      "Loading dataset: 100%|█████████████████████████| 46/46 [00:00<00:00, 117.02it/s]\n"
     ]
    },
    {
     "name": "stdout",
     "output_type": "stream",
     "text": [
      "\n",
      "epoch 35/100 steps 5/50, |train-loss: 0.2544\n",
      "epoch 35/100 steps 10/50, |train-loss: 0.7378\n",
      "epoch 35/100 steps 15/50, |train-loss: 0.6263\n",
      "epoch 35/100 steps 20/50, |train-loss: 0.3062\n",
      "epoch 35/100 steps 25/50, |train-loss: 0.3101\n",
      "epoch 35/100 steps 30/50, |train-loss: 0.5637\n",
      "epoch 35/100 steps 35/50, |train-loss: 0.6331\n",
      "epoch 35/100 steps 40/50, |train-loss: 0.4452\n",
      "epoch 35/100 steps 45/50, |train-loss: 0.9655\n",
      "epoch 35/100 steps 50/50, |train-loss: 0.3794 |avg-loss: 0.5060 dur 81.0s "
     ]
    },
    {
     "name": "stderr",
     "output_type": "stream",
     "text": [
      "Loading dataset: 100%|███████████████████████| 200/200 [00:01<00:00, 148.21it/s]\n",
      "Loading dataset: 100%|█████████████████████████| 46/46 [00:00<00:00, 127.14it/s]\n"
     ]
    },
    {
     "name": "stdout",
     "output_type": "stream",
     "text": [
      "\n",
      "epoch 36/100 steps 5/50, |train-loss: 0.3258\n",
      "epoch 36/100 steps 10/50, |train-loss: 0.2232\n",
      "epoch 36/100 steps 15/50, |train-loss: 0.2353\n",
      "epoch 36/100 steps 20/50, |train-loss: 0.4812\n",
      "epoch 36/100 steps 25/50, |train-loss: 0.4630\n",
      "epoch 36/100 steps 30/50, |train-loss: 0.5661\n",
      "epoch 36/100 steps 35/50, |train-loss: 0.1701\n",
      "epoch 36/100 steps 40/50, |train-loss: 0.4740\n",
      "epoch 36/100 steps 45/50, |train-loss: 0.2265\n",
      "epoch 36/100 steps 50/50, |train-loss: 0.8405 |avg-loss: 0.4737 dur 80.2s |val-acc: 0.7609 |old-best: 0.8478 "
     ]
    },
    {
     "name": "stderr",
     "output_type": "stream",
     "text": [
      "Loading dataset: 100%|███████████████████████| 200/200 [00:01<00:00, 149.57it/s]\n",
      "Loading dataset: 100%|█████████████████████████| 46/46 [00:00<00:00, 115.74it/s]\n"
     ]
    },
    {
     "name": "stdout",
     "output_type": "stream",
     "text": [
      "\n",
      "epoch 37/100 steps 5/50, |train-loss: 0.3201\n",
      "epoch 37/100 steps 10/50, |train-loss: 0.2640\n",
      "epoch 37/100 steps 15/50, |train-loss: 0.2655\n",
      "epoch 37/100 steps 20/50, |train-loss: 0.2439\n",
      "epoch 37/100 steps 25/50, |train-loss: 0.4681\n",
      "epoch 37/100 steps 30/50, |train-loss: 0.6381\n",
      "epoch 37/100 steps 35/50, |train-loss: 0.2059\n",
      "epoch 37/100 steps 40/50, |train-loss: 0.5295\n",
      "epoch 37/100 steps 45/50, |train-loss: 0.2060\n",
      "epoch 37/100 steps 50/50, |train-loss: 0.3891 |avg-loss: 0.3399 dur 80.7s "
     ]
    },
    {
     "name": "stderr",
     "output_type": "stream",
     "text": [
      "Loading dataset: 100%|███████████████████████| 200/200 [00:01<00:00, 128.04it/s]\n",
      "Loading dataset: 100%|█████████████████████████| 46/46 [00:00<00:00, 128.45it/s]\n"
     ]
    },
    {
     "name": "stdout",
     "output_type": "stream",
     "text": [
      "\n",
      "epoch 38/100 steps 5/50, |train-loss: 0.1001\n",
      "epoch 38/100 steps 10/50, |train-loss: 0.1101\n",
      "epoch 38/100 steps 15/50, |train-loss: 0.0845\n",
      "epoch 38/100 steps 20/50, |train-loss: 0.4013\n",
      "epoch 38/100 steps 25/50, |train-loss: 1.0411\n",
      "epoch 38/100 steps 30/50, |train-loss: 0.7661\n",
      "epoch 38/100 steps 35/50, |train-loss: 0.3700\n",
      "epoch 38/100 steps 40/50, |train-loss: 0.2747\n",
      "epoch 38/100 steps 45/50, |train-loss: 0.5088\n",
      "epoch 38/100 steps 50/50, |train-loss: 0.1128 |avg-loss: 0.3827 dur 79.3s |val-acc: 0.7391 |old-best: 0.8478 "
     ]
    },
    {
     "name": "stderr",
     "output_type": "stream",
     "text": [
      "Loading dataset: 100%|███████████████████████| 200/200 [00:01<00:00, 141.71it/s]\n",
      "Loading dataset: 100%|█████████████████████████| 46/46 [00:00<00:00, 111.29it/s]\n"
     ]
    },
    {
     "name": "stdout",
     "output_type": "stream",
     "text": [
      "\n",
      "epoch 39/100 steps 5/50, |train-loss: 0.6307\n",
      "epoch 39/100 steps 10/50, |train-loss: 0.5542\n",
      "epoch 39/100 steps 15/50, |train-loss: 0.2899\n",
      "epoch 39/100 steps 20/50, |train-loss: 0.5462\n",
      "epoch 39/100 steps 25/50, |train-loss: 0.3601\n",
      "epoch 39/100 steps 30/50, |train-loss: 0.6202\n",
      "epoch 39/100 steps 35/50, |train-loss: 0.6391\n",
      "epoch 39/100 steps 40/50, |train-loss: 0.1717\n",
      "epoch 39/100 steps 45/50, |train-loss: 0.3666\n",
      "epoch 39/100 steps 50/50, |train-loss: 0.5112 |avg-loss: 0.4303 dur 79.5s "
     ]
    },
    {
     "name": "stderr",
     "output_type": "stream",
     "text": [
      "Loading dataset: 100%|███████████████████████| 200/200 [00:01<00:00, 138.65it/s]\n",
      "Loading dataset: 100%|█████████████████████████| 46/46 [00:00<00:00, 109.96it/s]\n"
     ]
    },
    {
     "name": "stdout",
     "output_type": "stream",
     "text": [
      "\n",
      "epoch 40/100 steps 5/50, |train-loss: 1.1506\n",
      "epoch 40/100 steps 10/50, |train-loss: 0.1397\n",
      "epoch 40/100 steps 15/50, |train-loss: 0.3085\n",
      "epoch 40/100 steps 20/50, |train-loss: 0.4413\n",
      "epoch 40/100 steps 25/50, |train-loss: 0.2595\n",
      "epoch 40/100 steps 30/50, |train-loss: 0.2751\n",
      "epoch 40/100 steps 35/50, |train-loss: 0.6865\n",
      "epoch 40/100 steps 40/50, |train-loss: 0.4603\n",
      "epoch 40/100 steps 45/50, |train-loss: 0.1718\n",
      "epoch 40/100 steps 50/50, |train-loss: 0.2440 |avg-loss: 0.3716 dur 81.6s |val-acc: 0.8261 |old-best: 0.8478 |40ep model saved"
     ]
    },
    {
     "name": "stderr",
     "output_type": "stream",
     "text": [
      "Loading dataset: 100%|███████████████████████| 200/200 [00:01<00:00, 148.34it/s]\n",
      "Loading dataset: 100%|█████████████████████████| 46/46 [00:00<00:00, 109.37it/s]\n"
     ]
    },
    {
     "name": "stdout",
     "output_type": "stream",
     "text": [
      "\n",
      "epoch 41/100 steps 5/50, |train-loss: 0.0892\n",
      "epoch 41/100 steps 10/50, |train-loss: 0.7033\n",
      "epoch 41/100 steps 15/50, |train-loss: 0.2089\n",
      "epoch 41/100 steps 20/50, |train-loss: 0.4501\n",
      "epoch 41/100 steps 25/50, |train-loss: 0.3372\n",
      "epoch 41/100 steps 30/50, |train-loss: 0.9647\n",
      "epoch 41/100 steps 35/50, |train-loss: 0.6383\n",
      "epoch 41/100 steps 40/50, |train-loss: 0.7762\n",
      "epoch 41/100 steps 45/50, |train-loss: 0.8950\n",
      "epoch 41/100 steps 50/50, |train-loss: 0.3577 |avg-loss: 0.4377 dur 81.7s "
     ]
    },
    {
     "name": "stderr",
     "output_type": "stream",
     "text": [
      "Loading dataset: 100%|███████████████████████| 200/200 [00:01<00:00, 155.94it/s]\n",
      "Loading dataset: 100%|█████████████████████████| 46/46 [00:00<00:00, 110.72it/s]\n"
     ]
    },
    {
     "name": "stdout",
     "output_type": "stream",
     "text": [
      "\n",
      "epoch 42/100 steps 5/50, |train-loss: 0.2590\n",
      "epoch 42/100 steps 10/50, |train-loss: 0.5381\n",
      "epoch 42/100 steps 15/50, |train-loss: 0.9292\n",
      "epoch 42/100 steps 20/50, |train-loss: 0.3520\n",
      "epoch 42/100 steps 25/50, |train-loss: 0.0878\n",
      "epoch 42/100 steps 30/50, |train-loss: 0.5572\n",
      "epoch 42/100 steps 35/50, |train-loss: 0.1718\n",
      "epoch 42/100 steps 40/50, |train-loss: 0.3488\n",
      "epoch 42/100 steps 45/50, |train-loss: 0.1747\n",
      "epoch 42/100 steps 50/50, |train-loss: 0.2968 |avg-loss: 0.4372 dur 81.8s |val-acc: 0.8261 |old-best: 0.8478 "
     ]
    },
    {
     "name": "stderr",
     "output_type": "stream",
     "text": [
      "Loading dataset: 100%|███████████████████████| 200/200 [00:01<00:00, 131.47it/s]\n",
      "Loading dataset: 100%|█████████████████████████| 46/46 [00:00<00:00, 109.45it/s]\n"
     ]
    },
    {
     "name": "stdout",
     "output_type": "stream",
     "text": [
      "\n",
      "epoch 43/100 steps 5/50, |train-loss: 0.1698\n",
      "epoch 43/100 steps 10/50, |train-loss: 0.1032\n",
      "epoch 43/100 steps 15/50, |train-loss: 0.5727\n",
      "epoch 43/100 steps 20/50, |train-loss: 0.2076\n",
      "epoch 43/100 steps 25/50, |train-loss: 0.0677\n",
      "epoch 43/100 steps 30/50, |train-loss: 0.1373\n",
      "epoch 43/100 steps 35/50, |train-loss: 0.1861\n",
      "epoch 43/100 steps 40/50, |train-loss: 0.1819\n",
      "epoch 43/100 steps 45/50, |train-loss: 0.1876\n",
      "epoch 43/100 steps 50/50, |train-loss: 0.4353 |avg-loss: 0.2974 dur 81.4s "
     ]
    },
    {
     "name": "stderr",
     "output_type": "stream",
     "text": [
      "Loading dataset: 100%|███████████████████████| 200/200 [00:01<00:00, 147.22it/s]\n",
      "Loading dataset: 100%|█████████████████████████| 46/46 [00:00<00:00, 134.66it/s]\n"
     ]
    },
    {
     "name": "stdout",
     "output_type": "stream",
     "text": [
      "\n",
      "epoch 44/100 steps 5/50, |train-loss: 1.0497\n",
      "epoch 44/100 steps 10/50, |train-loss: 0.1692\n",
      "epoch 44/100 steps 15/50, |train-loss: 0.1657\n",
      "epoch 44/100 steps 20/50, |train-loss: 0.0587\n",
      "epoch 44/100 steps 25/50, |train-loss: 0.1318\n",
      "epoch 44/100 steps 30/50, |train-loss: 0.1053\n",
      "epoch 44/100 steps 35/50, |train-loss: 0.2206\n",
      "epoch 44/100 steps 40/50, |train-loss: 0.0567\n",
      "epoch 44/100 steps 45/50, |train-loss: 0.1232\n",
      "epoch 44/100 steps 50/50, |train-loss: 0.1115 |avg-loss: 0.2591 dur 81.5s |val-acc: 0.9348 |old-best: 0.8478 |best model saved"
     ]
    },
    {
     "name": "stderr",
     "output_type": "stream",
     "text": [
      "Loading dataset: 100%|███████████████████████| 200/200 [00:01<00:00, 137.40it/s]\n",
      "Loading dataset: 100%|█████████████████████████| 46/46 [00:00<00:00, 114.83it/s]\n"
     ]
    },
    {
     "name": "stdout",
     "output_type": "stream",
     "text": [
      "\n",
      "epoch 45/100 steps 5/50, |train-loss: 0.1682\n",
      "epoch 45/100 steps 10/50, |train-loss: 0.4464\n",
      "epoch 45/100 steps 15/50, |train-loss: 0.4277\n",
      "epoch 45/100 steps 20/50, |train-loss: 0.0648\n",
      "epoch 45/100 steps 25/50, |train-loss: 0.1444\n",
      "epoch 45/100 steps 30/50, |train-loss: 0.1575\n",
      "epoch 45/100 steps 35/50, |train-loss: 0.0434\n",
      "epoch 45/100 steps 40/50, |train-loss: 0.0882\n",
      "epoch 45/100 steps 45/50, |train-loss: 0.4052\n",
      "epoch 45/100 steps 50/50, |train-loss: 0.7227 |avg-loss: 0.3025 dur 80.8s "
     ]
    },
    {
     "name": "stderr",
     "output_type": "stream",
     "text": [
      "Loading dataset: 100%|███████████████████████| 200/200 [00:01<00:00, 155.90it/s]\n",
      "Loading dataset: 100%|█████████████████████████| 46/46 [00:00<00:00, 112.17it/s]\n"
     ]
    },
    {
     "name": "stdout",
     "output_type": "stream",
     "text": [
      "\n",
      "epoch 46/100 steps 5/50, |train-loss: 0.1073\n",
      "epoch 46/100 steps 10/50, |train-loss: 0.3393\n",
      "epoch 46/100 steps 15/50, |train-loss: 0.3504\n",
      "epoch 46/100 steps 20/50, |train-loss: 0.2530\n",
      "epoch 46/100 steps 25/50, |train-loss: 0.2834\n",
      "epoch 46/100 steps 30/50, |train-loss: 0.9396\n",
      "epoch 46/100 steps 35/50, |train-loss: 0.7290\n",
      "epoch 46/100 steps 40/50, |train-loss: 0.2206\n",
      "epoch 46/100 steps 45/50, |train-loss: 0.3060\n",
      "epoch 46/100 steps 50/50, |train-loss: 0.3719 |avg-loss: 0.4796 dur 80.7s |val-acc: 0.8478 |old-best: 0.9348 "
     ]
    },
    {
     "name": "stderr",
     "output_type": "stream",
     "text": [
      "Loading dataset: 100%|███████████████████████| 200/200 [00:01<00:00, 154.89it/s]\n",
      "Loading dataset: 100%|█████████████████████████| 46/46 [00:00<00:00, 111.16it/s]\n"
     ]
    },
    {
     "name": "stdout",
     "output_type": "stream",
     "text": [
      "\n",
      "epoch 47/100 steps 5/50, |train-loss: 0.2831\n",
      "epoch 47/100 steps 10/50, |train-loss: 0.5292\n",
      "epoch 47/100 steps 15/50, |train-loss: 0.1810\n",
      "epoch 47/100 steps 20/50, |train-loss: 0.6816\n",
      "epoch 47/100 steps 25/50, |train-loss: 0.2089\n",
      "epoch 47/100 steps 30/50, |train-loss: 0.2318\n",
      "epoch 47/100 steps 35/50, |train-loss: 0.0952\n",
      "epoch 47/100 steps 40/50, |train-loss: 0.5741\n",
      "epoch 47/100 steps 45/50, |train-loss: 0.8121\n",
      "epoch 47/100 steps 50/50, |train-loss: 0.1801 |avg-loss: 0.3816 dur 80.2s "
     ]
    },
    {
     "name": "stderr",
     "output_type": "stream",
     "text": [
      "Loading dataset: 100%|███████████████████████| 200/200 [00:01<00:00, 134.14it/s]\n",
      "Loading dataset: 100%|█████████████████████████| 46/46 [00:00<00:00, 112.07it/s]\n"
     ]
    },
    {
     "name": "stdout",
     "output_type": "stream",
     "text": [
      "\n",
      "epoch 48/100 steps 5/50, |train-loss: 0.2304\n",
      "epoch 48/100 steps 10/50, |train-loss: 0.2868\n",
      "epoch 48/100 steps 15/50, |train-loss: 0.0513\n",
      "epoch 48/100 steps 20/50, |train-loss: 0.0746\n",
      "epoch 48/100 steps 25/50, |train-loss: 0.0969\n",
      "epoch 48/100 steps 30/50, |train-loss: 0.3885\n",
      "epoch 48/100 steps 35/50, |train-loss: 0.2034\n",
      "epoch 48/100 steps 40/50, |train-loss: 0.0299\n",
      "epoch 48/100 steps 45/50, |train-loss: 0.0642\n",
      "epoch 48/100 steps 50/50, |train-loss: 1.2114 |avg-loss: 0.2500 dur 81.7s |val-acc: 0.9348 |old-best: 0.9348 "
     ]
    },
    {
     "name": "stderr",
     "output_type": "stream",
     "text": [
      "Loading dataset: 100%|███████████████████████| 200/200 [00:01<00:00, 145.15it/s]\n",
      "Loading dataset: 100%|█████████████████████████| 46/46 [00:00<00:00, 126.53it/s]\n"
     ]
    },
    {
     "name": "stdout",
     "output_type": "stream",
     "text": [
      "\n",
      "epoch 49/100 steps 5/50, |train-loss: 0.1904\n",
      "epoch 49/100 steps 10/50, |train-loss: 0.4209\n",
      "epoch 49/100 steps 15/50, |train-loss: 0.2098\n",
      "epoch 49/100 steps 20/50, |train-loss: 0.1498\n",
      "epoch 49/100 steps 25/50, |train-loss: 0.0908\n",
      "epoch 49/100 steps 30/50, |train-loss: 0.8754\n",
      "epoch 49/100 steps 35/50, |train-loss: 0.3774\n",
      "epoch 49/100 steps 40/50, |train-loss: 0.1298\n",
      "epoch 49/100 steps 45/50, |train-loss: 0.2281\n",
      "epoch 49/100 steps 50/50, |train-loss: 0.0375 |avg-loss: 0.2407 dur 81.4s "
     ]
    },
    {
     "name": "stderr",
     "output_type": "stream",
     "text": [
      "Loading dataset: 100%|███████████████████████| 200/200 [00:01<00:00, 149.36it/s]\n",
      "Loading dataset: 100%|█████████████████████████| 46/46 [00:00<00:00, 109.40it/s]\n"
     ]
    },
    {
     "name": "stdout",
     "output_type": "stream",
     "text": [
      "\n",
      "epoch 50/100 steps 5/50, |train-loss: 0.1004\n",
      "epoch 50/100 steps 10/50, |train-loss: 0.9289\n",
      "epoch 50/100 steps 15/50, |train-loss: 0.0451\n",
      "epoch 50/100 steps 20/50, |train-loss: 0.5909\n",
      "epoch 50/100 steps 25/50, |train-loss: 0.5134\n",
      "epoch 50/100 steps 30/50, |train-loss: 0.0885\n",
      "epoch 50/100 steps 35/50, |train-loss: 0.1138\n",
      "epoch 50/100 steps 40/50, |train-loss: 0.1579\n",
      "epoch 50/100 steps 45/50, |train-loss: 0.6513\n",
      "epoch 50/100 steps 50/50, |train-loss: 0.0788 |avg-loss: 0.2669 dur 80.9s |val-acc: 0.9783 |old-best: 0.9348 |best model saved|50ep model saved"
     ]
    },
    {
     "name": "stderr",
     "output_type": "stream",
     "text": [
      "Loading dataset: 100%|███████████████████████| 200/200 [00:01<00:00, 152.00it/s]\n",
      "Loading dataset: 100%|█████████████████████████| 46/46 [00:00<00:00, 120.39it/s]\n"
     ]
    },
    {
     "name": "stdout",
     "output_type": "stream",
     "text": [
      "\n",
      "epoch 51/100 steps 5/50, |train-loss: 0.1458\n",
      "epoch 51/100 steps 10/50, |train-loss: 0.8008\n",
      "epoch 51/100 steps 15/50, |train-loss: 1.2924\n",
      "epoch 51/100 steps 20/50, |train-loss: 0.4369\n",
      "epoch 51/100 steps 25/50, |train-loss: 0.1284\n",
      "epoch 51/100 steps 30/50, |train-loss: 0.1087\n",
      "epoch 51/100 steps 35/50, |train-loss: 0.1659\n",
      "epoch 51/100 steps 40/50, |train-loss: 0.8461\n",
      "epoch 51/100 steps 45/50, |train-loss: 0.1459\n",
      "epoch 51/100 steps 50/50, |train-loss: 0.1269 |avg-loss: 0.2506 dur 81.2s "
     ]
    },
    {
     "name": "stderr",
     "output_type": "stream",
     "text": [
      "Loading dataset: 100%|███████████████████████| 200/200 [00:01<00:00, 158.80it/s]\n",
      "Loading dataset: 100%|█████████████████████████| 46/46 [00:00<00:00, 106.59it/s]\n"
     ]
    },
    {
     "name": "stdout",
     "output_type": "stream",
     "text": [
      "\n",
      "epoch 52/100 steps 5/50, |train-loss: 0.2457\n",
      "epoch 52/100 steps 10/50, |train-loss: 0.0975\n",
      "epoch 52/100 steps 15/50, |train-loss: 0.1442\n",
      "epoch 52/100 steps 20/50, |train-loss: 0.9283\n",
      "epoch 52/100 steps 25/50, |train-loss: 0.7545\n",
      "epoch 52/100 steps 30/50, |train-loss: 0.2159\n",
      "epoch 52/100 steps 35/50, |train-loss: 0.0602"
     ]
    },
    {
     "name": "stderr",
     "output_type": "stream",
     "text": [
      "Process Process-780:\n",
      "Process Process-777:\n",
      "Process Process-779:\n",
      "Exception ignored in: <function _MultiProcessingDataLoaderIter.__del__ at 0x7fa96cd63d30>\n",
      "Traceback (most recent call last):\n",
      "  File \"/home/aistore3/.conda/envs/snuimageseg/lib/python3.8/site-packages/torch/utils/data/dataloader.py\", line 1203, in __del__\n",
      "    self._shutdown_workers()\n",
      "  File \"/home/aistore3/.conda/envs/snuimageseg/lib/python3.8/site-packages/torch/utils/data/dataloader.py\", line 1177, in _shutdown_workers\n",
      "    w.join(timeout=_utils.MP_STATUS_CHECK_INTERVAL)\n",
      "  File \"/home/aistore3/.conda/envs/snuimageseg/lib/python3.8/multiprocessing/process.py\", line 149, in join\n",
      "    res = self._popen.wait(timeout)\n",
      "  File \"/home/aistore3/.conda/envs/snuimageseg/lib/python3.8/multiprocessing/popen_fork.py\", line 44, in wait\n",
      "    if not wait([self.sentinel], timeout):\n",
      "  File \"/home/aistore3/.conda/envs/snuimageseg/lib/python3.8/multiprocessing/connection.py\", line 931, in wait\n",
      "    ready = selector.select(timeout)\n",
      "  File \"/home/aistore3/.conda/envs/snuimageseg/lib/python3.8/selectors.py\", line 415, in select\n",
      "    fd_event_list = self._selector.poll(timeout)\n",
      "KeyboardInterrupt: \n",
      "Traceback (most recent call last):\n",
      "Traceback (most recent call last):\n",
      "Traceback (most recent call last):\n",
      "  File \"/home/aistore3/.conda/envs/snuimageseg/lib/python3.8/multiprocessing/process.py\", line 318, in _bootstrap\n",
      "    util._exit_function()\n",
      "  File \"/home/aistore3/.conda/envs/snuimageseg/lib/python3.8/multiprocessing/process.py\", line 318, in _bootstrap\n",
      "    util._exit_function()\n",
      "  File \"/home/aistore3/.conda/envs/snuimageseg/lib/python3.8/multiprocessing/process.py\", line 318, in _bootstrap\n",
      "    util._exit_function()\n"
     ]
    },
    {
     "ename": "KeyboardInterrupt",
     "evalue": "",
     "output_type": "error",
     "traceback": [
      "\u001b[0;31m---------------------------------------------------------------------------\u001b[0m",
      "\u001b[0;31mKeyboardInterrupt\u001b[0m                         Traceback (most recent call last)",
      "File \u001b[0;32m<timed exec>:15\u001b[0m\n",
      "File \u001b[0;32m~/.conda/envs/snuimageseg/lib/python3.8/site-packages/torch/tensor.py:221\u001b[0m, in \u001b[0;36mTensor.backward\u001b[0;34m(self, gradient, retain_graph, create_graph)\u001b[0m\n\u001b[1;32m    213\u001b[0m \u001b[38;5;28;01mif\u001b[39;00m \u001b[38;5;28mtype\u001b[39m(\u001b[38;5;28mself\u001b[39m) \u001b[38;5;129;01mis\u001b[39;00m \u001b[38;5;129;01mnot\u001b[39;00m Tensor \u001b[38;5;129;01mand\u001b[39;00m has_torch_function(relevant_args):\n\u001b[1;32m    214\u001b[0m     \u001b[38;5;28;01mreturn\u001b[39;00m handle_torch_function(\n\u001b[1;32m    215\u001b[0m         Tensor\u001b[38;5;241m.\u001b[39mbackward,\n\u001b[1;32m    216\u001b[0m         relevant_args,\n\u001b[0;32m   (...)\u001b[0m\n\u001b[1;32m    219\u001b[0m         retain_graph\u001b[38;5;241m=\u001b[39mretain_graph,\n\u001b[1;32m    220\u001b[0m         create_graph\u001b[38;5;241m=\u001b[39mcreate_graph)\n\u001b[0;32m--> 221\u001b[0m \u001b[43mtorch\u001b[49m\u001b[38;5;241;43m.\u001b[39;49m\u001b[43mautograd\u001b[49m\u001b[38;5;241;43m.\u001b[39;49m\u001b[43mbackward\u001b[49m\u001b[43m(\u001b[49m\u001b[38;5;28;43mself\u001b[39;49m\u001b[43m,\u001b[49m\u001b[43m \u001b[49m\u001b[43mgradient\u001b[49m\u001b[43m,\u001b[49m\u001b[43m \u001b[49m\u001b[43mretain_graph\u001b[49m\u001b[43m,\u001b[49m\u001b[43m \u001b[49m\u001b[43mcreate_graph\u001b[49m\u001b[43m)\u001b[49m\n",
      "File \u001b[0;32m~/.conda/envs/snuimageseg/lib/python3.8/site-packages/torch/autograd/__init__.py:130\u001b[0m, in \u001b[0;36mbackward\u001b[0;34m(tensors, grad_tensors, retain_graph, create_graph, grad_variables)\u001b[0m\n\u001b[1;32m    127\u001b[0m \u001b[38;5;28;01mif\u001b[39;00m retain_graph \u001b[38;5;129;01mis\u001b[39;00m \u001b[38;5;28;01mNone\u001b[39;00m:\n\u001b[1;32m    128\u001b[0m     retain_graph \u001b[38;5;241m=\u001b[39m create_graph\n\u001b[0;32m--> 130\u001b[0m \u001b[43mVariable\u001b[49m\u001b[38;5;241;43m.\u001b[39;49m\u001b[43m_execution_engine\u001b[49m\u001b[38;5;241;43m.\u001b[39;49m\u001b[43mrun_backward\u001b[49m\u001b[43m(\u001b[49m\n\u001b[1;32m    131\u001b[0m \u001b[43m    \u001b[49m\u001b[43mtensors\u001b[49m\u001b[43m,\u001b[49m\u001b[43m \u001b[49m\u001b[43mgrad_tensors_\u001b[49m\u001b[43m,\u001b[49m\u001b[43m \u001b[49m\u001b[43mretain_graph\u001b[49m\u001b[43m,\u001b[49m\u001b[43m \u001b[49m\u001b[43mcreate_graph\u001b[49m\u001b[43m,\u001b[49m\n\u001b[1;32m    132\u001b[0m \u001b[43m    \u001b[49m\u001b[43mallow_unreachable\u001b[49m\u001b[38;5;241;43m=\u001b[39;49m\u001b[38;5;28;43;01mTrue\u001b[39;49;00m\u001b[43m)\u001b[49m\n",
      "\u001b[0;31mKeyboardInterrupt\u001b[0m: "
     ]
    },
    {
     "name": "stderr",
     "output_type": "stream",
     "text": [
      "  File \"/home/aistore3/.conda/envs/snuimageseg/lib/python3.8/multiprocessing/util.py\", line 360, in _exit_function\n",
      "    _run_finalizers()\n",
      "  File \"/home/aistore3/.conda/envs/snuimageseg/lib/python3.8/multiprocessing/util.py\", line 360, in _exit_function\n",
      "    _run_finalizers()\n",
      "  File \"/home/aistore3/.conda/envs/snuimageseg/lib/python3.8/multiprocessing/util.py\", line 300, in _run_finalizers\n",
      "    finalizer()\n",
      "  File \"/home/aistore3/.conda/envs/snuimageseg/lib/python3.8/multiprocessing/util.py\", line 300, in _run_finalizers\n",
      "    finalizer()\n",
      "  File \"/home/aistore3/.conda/envs/snuimageseg/lib/python3.8/multiprocessing/util.py\", line 224, in __call__\n",
      "    res = self._callback(*self._args, **self._kwargs)\n",
      "  File \"/home/aistore3/.conda/envs/snuimageseg/lib/python3.8/multiprocessing/util.py\", line 224, in __call__\n",
      "    res = self._callback(*self._args, **self._kwargs)\n",
      "  File \"/home/aistore3/.conda/envs/snuimageseg/lib/python3.8/multiprocessing/queues.py\", line 195, in _finalize_join\n",
      "    thread.join()\n",
      "  File \"/home/aistore3/.conda/envs/snuimageseg/lib/python3.8/multiprocessing/queues.py\", line 195, in _finalize_join\n",
      "    thread.join()\n",
      "  File \"/home/aistore3/.conda/envs/snuimageseg/lib/python3.8/threading.py\", line 1011, in join\n",
      "    self._wait_for_tstate_lock()\n",
      "  File \"/home/aistore3/.conda/envs/snuimageseg/lib/python3.8/multiprocessing/util.py\", line 360, in _exit_function\n",
      "    _run_finalizers()\n",
      "  File \"/home/aistore3/.conda/envs/snuimageseg/lib/python3.8/multiprocessing/util.py\", line 300, in _run_finalizers\n",
      "    finalizer()\n",
      "  File \"/home/aistore3/.conda/envs/snuimageseg/lib/python3.8/multiprocessing/util.py\", line 224, in __call__\n",
      "    res = self._callback(*self._args, **self._kwargs)\n",
      "  File \"/home/aistore3/.conda/envs/snuimageseg/lib/python3.8/threading.py\", line 1011, in join\n",
      "    self._wait_for_tstate_lock()\n",
      "  File \"/home/aistore3/.conda/envs/snuimageseg/lib/python3.8/threading.py\", line 1027, in _wait_for_tstate_lock\n",
      "    elif lock.acquire(block, timeout):\n",
      "  File \"/home/aistore3/.conda/envs/snuimageseg/lib/python3.8/multiprocessing/queues.py\", line 195, in _finalize_join\n",
      "    thread.join()\n",
      "  File \"/home/aistore3/.conda/envs/snuimageseg/lib/python3.8/threading.py\", line 1027, in _wait_for_tstate_lock\n",
      "    elif lock.acquire(block, timeout):\n",
      "KeyboardInterrupt\n",
      "  File \"/home/aistore3/.conda/envs/snuimageseg/lib/python3.8/threading.py\", line 1011, in join\n",
      "    self._wait_for_tstate_lock()\n",
      "KeyboardInterrupt\n",
      "  File \"/home/aistore3/.conda/envs/snuimageseg/lib/python3.8/threading.py\", line 1027, in _wait_for_tstate_lock\n",
      "    elif lock.acquire(block, timeout):\n",
      "KeyboardInterrupt\n"
     ]
    }
   ],
   "source": [
    "%%time\n",
    "\n",
    "import time\n",
    "\n",
    "for epoch in range(max_epochs):\n",
    "    train_ds, train_loader, val_ds, val_loader = shuffle_data()\n",
    "    tic_epoch = time.time()\n",
    "    model.train()\n",
    "    epoch_loss = 0\n",
    "    step = 0\n",
    "    for batch_data in train_loader:\n",
    "        step += 1\n",
    "        inputs, labels = batch_data[\"image\"].to(device), batch_data[\"label\"].to(device)\n",
    "        optimizer.zero_grad()\n",
    "        outputs = model(inputs)\n",
    "        loss = loss_function(outputs, labels)\n",
    "        loss.backward()\n",
    "        optimizer.step()\n",
    "        epoch_loss += loss.item()\n",
    "        if step % 5 ==0:\n",
    "            print(f\"\\nepoch {epoch + 1}/{max_epochs} steps {step}/{len(train_ds) // train_loader.batch_size}, |train-loss: {loss.item():.4f}\", end='')\n",
    "    epoch_loss /= step\n",
    "    epoch_loss_values.append(epoch_loss)\n",
    "    toc_epoch = time.time()\n",
    "    dur_epoch = toc_epoch - tic_epoch\n",
    "    print(f\" |avg-loss: {epoch_loss:.4f} dur {dur_epoch:.1f}s \", end='')\n",
    "\n",
    "    if (epoch + 1) % val_interval == 0:\n",
    "        model.eval()\n",
    "        val_count = 0\n",
    "        val_correct = 0.0\n",
    "        \n",
    "        with torch.no_grad():\n",
    "            for val_data in val_loader:\n",
    "                inputs, labels = (\n",
    "                    val_data[\"image\"].to(device),\n",
    "                    val_data[\"label\"].to(device),\n",
    "                )\n",
    "                outputs = model(inputs)\n",
    "                val_result = torch.eq(outputs.argmax(dim=1), labels.argmax(dim=1))\n",
    "                val_count += len(val_result)\n",
    "                val_correct += val_result.sum().item()\n",
    "            \n",
    "            val_score = val_correct / val_count\n",
    "            metric_values.append(val_score)\n",
    "            print(f\"|val-acc: {val_score:.4f} |old-best: {best_score:.4f} \" , end=\"\")\n",
    "            \n",
    "            if val_score > best_score:\n",
    "                best_score = val_score\n",
    "                best_score_epoch = epoch + 1\n",
    "                torch.save(model.state_dict(), os.path.join(root_dir, \"{}_model_best.pth\".format(model_name)))\n",
    "                torch.save(optimizer.state_dict(), os.path.join(root_dir, \"{}_optim_best.pth\".format(model_name)))\n",
    "                print(\"|best model saved\", end=\"\")\n",
    "    \n",
    "    if (epoch+1) % save_interval == 0:\n",
    "        torch.save(model.state_dict(), os.path.join(root_dir, \"{}_model_{:04d}.pth\".format(model_name, epoch+1)))\n",
    "        torch.save(optimizer.state_dict(), os.path.join(root_dir, \"{}_optim_{:04d}.pth\".format(model_name, epoch+1)))\n",
    "        print(\"|{}ep model saved\".format(epoch+1), end='')\n",
    "                            \n",
    "print(f\"\\ntrain completed, best_metric: {best_score:.4f} at epoch: {best_score_epoch} for {max_epochs} epoches\")"
   ]
  },
  {
   "cell_type": "code",
   "execution_count": 25,
   "metadata": {
    "colab": {
     "base_uri": "https://localhost:8080/",
     "height": 404
    },
    "id": "NoL8LbHBcfhx",
    "outputId": "2bf2b4dc-5acc-4fd7-eb4f-57e8ae21cf9a"
   },
   "outputs": [],
   "source": [
    "!rm -rf pymp-*"
   ]
  },
  {
   "cell_type": "code",
   "execution_count": 26,
   "metadata": {
    "colab": {
     "base_uri": "https://localhost:8080/",
     "height": 404
    },
    "id": "NoL8LbHBcfhx",
    "outputId": "2bf2b4dc-5acc-4fd7-eb4f-57e8ae21cf9a"
   },
   "outputs": [
    {
     "data": {
      "image/png": "[encoded data removed]",
      "text/plain": [
       "<Figure size 1200x600 with 2 Axes>"
      ]
     },
     "metadata": {},
     "output_type": "display_data"
    }
   ],
   "source": [
    "import matplotlib.pyplot as plt\n",
    "\n",
    "plt.figure(\"train\", (12, 6))\n",
    "plt.subplot(1, 2, 1)\n",
    "plt.title(\"Epoch Average Loss\")\n",
    "x = [i + 1 for i in range(len(epoch_loss_values))]\n",
    "y = epoch_loss_values\n",
    "plt.xlabel(\"epoch\")\n",
    "plt.plot(x, y)\n",
    "plt.ylim(0,1)\n",
    "plt.subplot(1, 2, 2)\n",
    "plt.title(\"Val Accuracy\")\n",
    "x = [val_interval * (i + 1) for i in range(len(metric_values))]\n",
    "y = metric_values\n",
    "plt.xlabel(\"epoch\")\n",
    "plt.plot(x, y)\n",
    "plt.ylim(0,1)\n",
    "plt.show()"
   ]
  }
 ],
 "metadata": {
  "accelerator": "GPU",
  "colab": {
   "collapsed_sections": [],
   "machine_shape": "hm",
   "name": "moani_bootcamp_2_2.ipynb",
   "provenance": []
  },
  "kernelspec": {
   "display_name": "Python 3 (ipykernel)",
   "language": "python",
   "name": "python3"
  },
  "language_info": {
   "codemirror_mode": {
    "name": "ipython",
    "version": 3
   },
   "file_extension": ".py",
   "mimetype": "text/x-python",
   "name": "python",
   "nbconvert_exporter": "python",
   "pygments_lexer": "ipython3",
   "version": "3.8.15"
  }
 },
 "nbformat": 4,
 "nbformat_minor": 4
}
