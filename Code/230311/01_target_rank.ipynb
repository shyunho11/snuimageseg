{
 "cells": [
  {
   "cell_type": "code",
   "execution_count": 1,
   "metadata": {
    "colab": {
     "base_uri": "https://localhost:8080/"
    },
    "id": "ZVD7911EVcWI",
    "outputId": "2783c3a4-855a-4b2b-86c0-297b7b31b9ce"
   },
   "outputs": [
    {
     "name": "stdout",
     "output_type": "stream",
     "text": [
      "Sat Mar 11 16:20:15 KST 2023\n",
      "\n",
      "+-----------------------------------------------------------------------------+\n",
      "| NVIDIA-SMI 455.32.00    Driver Version: 455.32.00    CUDA Version: 11.1     |\n",
      "|-------------------------------+----------------------+----------------------+\n",
      "| GPU  Name        Persistence-M| Bus-Id        Disp.A | Volatile Uncorr. ECC |\n",
      "| Fan  Temp  Perf  Pwr:Usage/Cap|         Memory-Usage | GPU-Util  Compute M. |\n",
      "|                               |                      |               MIG M. |\n",
      "|===============================+======================+======================|\n",
      "|   0  Tesla V100-PCIE...  On   | 00000000:14:00.0 Off |                    0 |\n",
      "| N/A   32C    P0    24W / 250W |      4MiB / 32510MiB |      0%      Default |\n",
      "|                               |                      |                  N/A |\n",
      "+-------------------------------+----------------------+----------------------+\n",
      "|   1  Tesla V100-PCIE...  On   | 00000000:15:00.0 Off |                    0 |\n",
      "| N/A   32C    P0    24W / 250W |      4MiB / 32510MiB |      0%      Default |\n",
      "|                               |                      |                  N/A |\n",
      "+-------------------------------+----------------------+----------------------+\n",
      "|   2  Tesla V100-PCIE...  On   | 00000000:39:00.0 Off |                    0 |\n",
      "| N/A   41C    P0    68W / 250W |   3795MiB / 32510MiB |     98%      Default |\n",
      "|                               |                      |                  N/A |\n",
      "+-------------------------------+----------------------+----------------------+\n",
      "|   3  Tesla V100-PCIE...  On   | 00000000:3A:00.0 Off |                    0 |\n",
      "| N/A   33C    P0    26W / 250W |      4MiB / 32510MiB |      0%      Default |\n",
      "|                               |                      |                  N/A |\n",
      "+-------------------------------+----------------------+----------------------+\n",
      "|   4  Tesla V100-PCIE...  On   | 00000000:88:00.0 Off |                    0 |\n",
      "| N/A   32C    P0    25W / 250W |      4MiB / 32510MiB |      0%      Default |\n",
      "|                               |                      |                  N/A |\n",
      "+-------------------------------+----------------------+----------------------+\n",
      "|   5  Tesla V100-PCIE...  On   | 00000000:89:00.0 Off |                    0 |\n",
      "| N/A   33C    P0    25W / 250W |      4MiB / 32510MiB |      0%      Default |\n",
      "|                               |                      |                  N/A |\n",
      "+-------------------------------+----------------------+----------------------+\n",
      "|   6  Tesla V100-PCIE...  On   | 00000000:B1:00.0 Off |                    0 |\n",
      "| N/A   31C    P0    25W / 250W |      4MiB / 32510MiB |      0%      Default |\n",
      "|                               |                      |                  N/A |\n",
      "+-------------------------------+----------------------+----------------------+\n",
      "|   7  Tesla V100-PCIE...  On   | 00000000:B2:00.0 Off |                    0 |\n",
      "| N/A   33C    P0    25W / 250W |      4MiB / 32510MiB |      0%      Default |\n",
      "|                               |                      |                  N/A |\n",
      "+-------------------------------+----------------------+----------------------+\n",
      "\n",
      "+-----------------------------------------------------------------------------+\n",
      "| Processes:                                                                  |\n",
      "|  GPU   GI   CI        PID   Type   Process name                  GPU Memory |\n",
      "|        ID   ID                                                   Usage      |\n",
      "|=============================================================================|\n",
      "|    0   N/A  N/A      7984      C   python                              0MiB |\n",
      "|    1   N/A  N/A      7984      C   python                              0MiB |\n",
      "|    2   N/A  N/A      7984      C   python                           3791MiB |\n",
      "|    3   N/A  N/A      7984      C   python                              0MiB |\n",
      "|    4   N/A  N/A      7984      C   python                              0MiB |\n",
      "|    5   N/A  N/A      7984      C   python                              0MiB |\n",
      "|    6   N/A  N/A      7984      C   python                              0MiB |\n",
      "|    7   N/A  N/A      7984      C   python                              0MiB |\n",
      "+-----------------------------------------------------------------------------+\n"
     ]
    }
   ],
   "source": [
    "!nvidia-smi"
   ]
  },
  {
   "cell_type": "code",
   "execution_count": 2,
   "metadata": {
    "colab": {
     "base_uri": "https://localhost:8080/"
    },
    "id": "pNnKTuzBgKZm",
    "outputId": "8b7c3607-768e-4222-d4c0-82806f5a1264"
   },
   "outputs": [
    {
     "name": "stdout",
     "output_type": "stream",
     "text": [
      "MONAI version: 1.1.0\n",
      "Numpy version: 1.23.5\n",
      "Pytorch version: 1.7.1+cu110\n",
      "MONAI flags: HAS_EXT = False, USE_COMPILED = False, USE_META_DICT = False\n",
      "MONAI rev id: a2ec3752f54bfc3b40e7952234fbeb5452ed63e3\n",
      "MONAI __file__: /home/aistore3/.conda/envs/snuimageseg/lib/python3.8/site-packages/monai/__init__.py\n",
      "\n",
      "Optional dependencies:\n",
      "Pytorch Ignite version: 0.4.8\n",
      "Nibabel version: 5.0.0\n",
      "scikit-image version: 0.19.3\n",
      "Pillow version: 9.4.0\n",
      "Tensorboard version: 2.11.0\n",
      "gdown version: 4.6.0\n",
      "TorchVision version: 0.8.2+cu110\n",
      "tqdm version: 4.64.1\n",
      "lmdb version: 1.4.0\n",
      "psutil version: 5.9.0\n",
      "pandas version: 1.5.2\n",
      "einops version: 0.6.0\n",
      "transformers version: 4.25.1\n",
      "mlflow version: 2.1.1\n",
      "pynrrd version: NOT INSTALLED or UNKNOWN VERSION.\n",
      "\n",
      "For details about installing the optional dependencies, please visit:\n",
      "    https://docs.monai.io/en/latest/installation.html#installing-the-recommended-dependencies\n",
      "\n"
     ]
    }
   ],
   "source": [
    "import os\n",
    "import glob\n",
    "\n",
    "import numpy as np\n",
    "import matplotlib.pyplot as plt\n",
    "import torch\n",
    "\n",
    "from monai.apps import download_and_extract\n",
    "from monai.config import print_config\n",
    "from monai.utils import set_determinism\n",
    "\n",
    "print_config()\n",
    "set_determinism(0)\n",
    "\n",
    "import warnings\n",
    "warnings.filterwarnings(\"ignore\", category=DeprecationWarning) \n",
    "warnings.filterwarnings(\"ignore\", category=UserWarning) "
   ]
  },
  {
   "cell_type": "code",
   "execution_count": 3,
   "metadata": {},
   "outputs": [],
   "source": [
    "directory = \"temp\"\n",
    "if not os.path.exists(directory):\n",
    "    os.makedirs(directory)\n",
    "root_dir = tempfile.mkdtemp() if directory is None else directory\n",
    "data_dir = \"Pancreas-CT\""
   ]
  },
  {
   "cell_type": "code",
   "execution_count": 4,
   "metadata": {
    "colab": {
     "base_uri": "https://localhost:8080/"
    },
    "id": "f5-WItNULaj8",
    "outputId": "8c2a4e8f-53f9-42d5-e72c-c80aaac26131"
   },
   "outputs": [
    {
     "name": "stdout",
     "output_type": "stream",
     "text": [
      "82\n"
     ]
    }
   ],
   "source": [
    "train_images = sorted(\n",
    "    glob.glob(os.path.join(data_dir, \"data\", \"*.nii.gz\")))\n",
    "train_labels = sorted(\n",
    "    glob.glob(os.path.join(data_dir, \"TCIA_pancreas_labels-02-05-2017\", \"*.nii.gz\")))\n",
    "data_dicts = [\n",
    "    {\"image\": image_name, \"label\": label_name}\n",
    "    for image_name, label_name in zip(train_images, train_labels)\n",
    "]\n",
    "print(len(data_dicts))"
   ]
  },
  {
   "cell_type": "code",
   "execution_count": 5,
   "metadata": {
    "id": "XhvAlLBlO8Kb"
   },
   "outputs": [],
   "source": [
    "def nii_loader(filename) :\n",
    "    import nibabel as nib\n",
    "    import numpy as np\n",
    "    import matplotlib.pyplot as plt\n",
    "    nimg = nib.load( filename )\n",
    "    return nimg.get_fdata() , nimg.affine, nimg.header\n",
    "\n",
    "def target_layers(dataset):\n",
    "    for idx in range(len(dataset)):\n",
    "        image = dataset[idx]['image']\n",
    "        label = dataset[idx]['label']\n",
    "\n",
    "        image_data, image_affine, image_header = nii_loader(image)\n",
    "        label_data, label_affine, label_header = nii_loader(label)\n",
    "\n",
    "        max_area = 0\n",
    "        max_layer = 0\n",
    "\n",
    "        for current_layer in range(0, image_data.shape[2]):\n",
    "            current_label = label_data[:,:,current_layer]\n",
    "            label_area = sum(sum(current_label))\n",
    "            if label_area > max_area:\n",
    "                max_area = label_area\n",
    "                max_layer = current_layer\n",
    "                \n",
    "        print(f'{os.path.basename(image)} {max_layer}')"
   ]
  },
  {
   "cell_type": "code",
   "execution_count": 6,
   "metadata": {
    "id": "XhvAlLBlO8Kb"
   },
   "outputs": [
    {
     "name": "stdout",
     "output_type": "stream",
     "text": [
      "PANCREAS_0001.nii.gz 126\n",
      "PANCREAS_0002.nii.gz 89\n",
      "PANCREAS_0003.nii.gz 90\n",
      "PANCREAS_0004.nii.gz 96\n",
      "PANCREAS_0005.nii.gz 96\n",
      "PANCREAS_0006.nii.gz 96\n",
      "PANCREAS_0007.nii.gz 103\n",
      "PANCREAS_0008.nii.gz 104\n",
      "PANCREAS_0009.nii.gz 102\n",
      "PANCREAS_0010.nii.gz 90\n",
      "PANCREAS_0011.nii.gz 96\n",
      "PANCREAS_0012.nii.gz 107\n",
      "PANCREAS_0013.nii.gz 75\n",
      "PANCREAS_0014.nii.gz 132\n",
      "PANCREAS_0015.nii.gz 108\n",
      "PANCREAS_0016.nii.gz 181\n",
      "PANCREAS_0017.nii.gz 131\n",
      "PANCREAS_0018.nii.gz 101\n",
      "PANCREAS_0019.nii.gz 100\n",
      "PANCREAS_0020.nii.gz 102\n",
      "PANCREAS_0021.nii.gz 105\n",
      "PANCREAS_0022.nii.gz 185\n",
      "PANCREAS_0023.nii.gz 124\n",
      "PANCREAS_0024.nii.gz 168\n",
      "PANCREAS_0025.nii.gz 89\n",
      "PANCREAS_0026.nii.gz 140\n",
      "PANCREAS_0027.nii.gz 93\n",
      "PANCREAS_0028.nii.gz 106\n",
      "PANCREAS_0029.nii.gz 82\n",
      "PANCREAS_0030.nii.gz 182\n",
      "PANCREAS_0031.nii.gz 131\n",
      "PANCREAS_0032.nii.gz 127\n",
      "PANCREAS_0033.nii.gz 144\n",
      "PANCREAS_0034.nii.gz 73\n",
      "PANCREAS_0035.nii.gz 98\n",
      "PANCREAS_0036.nii.gz 69\n",
      "PANCREAS_0037.nii.gz 66\n",
      "PANCREAS_0038.nii.gz 115\n",
      "PANCREAS_0039.nii.gz 96\n",
      "PANCREAS_0040.nii.gz 117\n",
      "PANCREAS_0041.nii.gz 109\n",
      "PANCREAS_0042.nii.gz 142\n",
      "PANCREAS_0043.nii.gz 104\n",
      "PANCREAS_0044.nii.gz 273\n",
      "PANCREAS_0045.nii.gz 96\n",
      "PANCREAS_0046.nii.gz 80\n",
      "PANCREAS_0047.nii.gz 97\n",
      "PANCREAS_0048.nii.gz 88\n",
      "PANCREAS_0049.nii.gz 89\n",
      "PANCREAS_0050.nii.gz 141\n",
      "PANCREAS_0051.nii.gz 95\n",
      "PANCREAS_0052.nii.gz 112\n",
      "PANCREAS_0053.nii.gz 155\n",
      "PANCREAS_0054.nii.gz 80\n",
      "PANCREAS_0055.nii.gz 65\n",
      "PANCREAS_0056.nii.gz 111\n",
      "PANCREAS_0057.nii.gz 100\n",
      "PANCREAS_0058.nii.gz 128\n",
      "PANCREAS_0059.nii.gz 102\n",
      "PANCREAS_0060.nii.gz 124\n",
      "PANCREAS_0061.nii.gz 96\n",
      "PANCREAS_0062.nii.gz 134\n",
      "PANCREAS_0063.nii.gz 137\n",
      "PANCREAS_0064.nii.gz 113\n",
      "PANCREAS_0065.nii.gz 94\n",
      "PANCREAS_0066.nii.gz 85\n",
      "PANCREAS_0067.nii.gz 112\n",
      "PANCREAS_0068.nii.gz 93\n",
      "PANCREAS_0069.nii.gz 99\n",
      "PANCREAS_0070.nii.gz 100\n",
      "PANCREAS_0071.nii.gz 89\n",
      "PANCREAS_0072.nii.gz 78\n",
      "PANCREAS_0073.nii.gz 149\n",
      "PANCREAS_0074.nii.gz 99\n",
      "PANCREAS_0075.nii.gz 115\n",
      "PANCREAS_0076.nii.gz 96\n",
      "PANCREAS_0077.nii.gz 96\n",
      "PANCREAS_0078.nii.gz 136\n",
      "PANCREAS_0079.nii.gz 110\n",
      "PANCREAS_0080.nii.gz 89\n",
      "PANCREAS_0081.nii.gz 106\n",
      "PANCREAS_0082.nii.gz 118\n"
     ]
    }
   ],
   "source": [
    "target_layers(data_dicts)"
   ]
  }
 ],
 "metadata": {
  "accelerator": "GPU",
  "colab": {
   "collapsed_sections": [],
   "machine_shape": "hm",
   "name": "moani_bootcamp_2_2.ipynb",
   "provenance": []
  },
  "kernelspec": {
   "display_name": "Python 3 (ipykernel)",
   "language": "python",
   "name": "python3"
  },
  "language_info": {
   "codemirror_mode": {
    "name": "ipython",
    "version": 3
   },
   "file_extension": ".py",
   "mimetype": "text/x-python",
   "name": "python",
   "nbconvert_exporter": "python",
   "pygments_lexer": "ipython3",
   "version": "3.8.15"
  }
 },
 "nbformat": 4,
 "nbformat_minor": 4
}
